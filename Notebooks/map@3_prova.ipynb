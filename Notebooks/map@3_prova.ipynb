{
 "cells": [
  {
   "cell_type": "code",
   "id": "initial_id",
   "metadata": {
    "collapsed": true,
    "ExecuteTime": {
     "end_time": "2024-05-12T15:42:10.810128Z",
     "start_time": "2024-05-12T15:42:10.536621Z"
    }
   },
   "source": [
    "import pandas as pd"
   ],
   "outputs": [],
   "execution_count": 1
  },
  {
   "metadata": {
    "ExecuteTime": {
     "end_time": "2024-05-12T15:44:18.047817Z",
     "start_time": "2024-05-12T15:44:18.044050Z"
    }
   },
   "cell_type": "code",
   "source": [
    "mapping_MethodToArm = {\n",
    "    0: \"impute_standard\",\n",
    "    1: \"impute_mean\",\n",
    "    2: \"impute_median\",\n",
    "    3: \"impute_random\",\n",
    "    4: \"impute_knn\",\n",
    "    5: \"impute_mice\",\n",
    "    6: \"impute_linear_regression\",\n",
    "    7: \"impute_random_forest\",\n",
    "    8: \"impute_cmeans\"\n",
    "}"
   ],
   "id": "d3bd50a75853d86a",
   "outputs": [],
   "execution_count": 9
  },
  {
   "metadata": {
    "ExecuteTime": {
     "end_time": "2024-05-12T15:42:10.863718Z",
     "start_time": "2024-05-12T15:42:10.817320Z"
    }
   },
   "cell_type": "code",
   "source": [
    "completeness_results = pd.read_csv('datasetCreated/results.csv')\n",
    "completeness_results"
   ],
   "id": "7914a4cc8187576a",
   "outputs": [
    {
     "data": {
      "text/plain": [
       "                             data_object  initial_completeness  \\\n",
       "0      default of credit card clients_x6              0.501188   \n",
       "1      default of credit card clients_x6              0.501188   \n",
       "2      default of credit card clients_x6              0.501188   \n",
       "3      default of credit card clients_x6              0.501188   \n",
       "4      default of credit card clients_x6              0.501188   \n",
       "...                                  ...                   ...   \n",
       "59395           numerai28.6_attribute_20              0.049812   \n",
       "59396           numerai28.6_attribute_20              0.049812   \n",
       "59397           numerai28.6_attribute_20              0.049812   \n",
       "59398           numerai28.6_attribute_20              0.049812   \n",
       "59399           numerai28.6_attribute_20              0.049812   \n",
       "\n",
       "         technique_completeness  ml_algorithm  final_ml_value  \n",
       "0               impute_standard  DecisionTree        0.782465  \n",
       "1                   impute_mean  DecisionTree        0.782406  \n",
       "2                 impute_median  DecisionTree        0.782433  \n",
       "3                 impute_random  DecisionTree        0.771792  \n",
       "4                    impute_knn  DecisionTree        0.783590  \n",
       "...                         ...           ...             ...  \n",
       "59395                impute_knn           SVC        0.487660  \n",
       "59396               impute_mice           SVC        0.484871  \n",
       "59397  impute_linear_regression           SVC        0.484871  \n",
       "59398      impute_random_forest           SVC        0.486971  \n",
       "59399             impute_cmeans           SVC        0.484465  \n",
       "\n",
       "[59400 rows x 5 columns]"
      ],
      "text/html": [
       "<div>\n",
       "<style scoped>\n",
       "    .dataframe tbody tr th:only-of-type {\n",
       "        vertical-align: middle;\n",
       "    }\n",
       "\n",
       "    .dataframe tbody tr th {\n",
       "        vertical-align: top;\n",
       "    }\n",
       "\n",
       "    .dataframe thead th {\n",
       "        text-align: right;\n",
       "    }\n",
       "</style>\n",
       "<table border=\"1\" class=\"dataframe\">\n",
       "  <thead>\n",
       "    <tr style=\"text-align: right;\">\n",
       "      <th></th>\n",
       "      <th>data_object</th>\n",
       "      <th>initial_completeness</th>\n",
       "      <th>technique_completeness</th>\n",
       "      <th>ml_algorithm</th>\n",
       "      <th>final_ml_value</th>\n",
       "    </tr>\n",
       "  </thead>\n",
       "  <tbody>\n",
       "    <tr>\n",
       "      <th>0</th>\n",
       "      <td>default of credit card clients_x6</td>\n",
       "      <td>0.501188</td>\n",
       "      <td>impute_standard</td>\n",
       "      <td>DecisionTree</td>\n",
       "      <td>0.782465</td>\n",
       "    </tr>\n",
       "    <tr>\n",
       "      <th>1</th>\n",
       "      <td>default of credit card clients_x6</td>\n",
       "      <td>0.501188</td>\n",
       "      <td>impute_mean</td>\n",
       "      <td>DecisionTree</td>\n",
       "      <td>0.782406</td>\n",
       "    </tr>\n",
       "    <tr>\n",
       "      <th>2</th>\n",
       "      <td>default of credit card clients_x6</td>\n",
       "      <td>0.501188</td>\n",
       "      <td>impute_median</td>\n",
       "      <td>DecisionTree</td>\n",
       "      <td>0.782433</td>\n",
       "    </tr>\n",
       "    <tr>\n",
       "      <th>3</th>\n",
       "      <td>default of credit card clients_x6</td>\n",
       "      <td>0.501188</td>\n",
       "      <td>impute_random</td>\n",
       "      <td>DecisionTree</td>\n",
       "      <td>0.771792</td>\n",
       "    </tr>\n",
       "    <tr>\n",
       "      <th>4</th>\n",
       "      <td>default of credit card clients_x6</td>\n",
       "      <td>0.501188</td>\n",
       "      <td>impute_knn</td>\n",
       "      <td>DecisionTree</td>\n",
       "      <td>0.783590</td>\n",
       "    </tr>\n",
       "    <tr>\n",
       "      <th>...</th>\n",
       "      <td>...</td>\n",
       "      <td>...</td>\n",
       "      <td>...</td>\n",
       "      <td>...</td>\n",
       "      <td>...</td>\n",
       "    </tr>\n",
       "    <tr>\n",
       "      <th>59395</th>\n",
       "      <td>numerai28.6_attribute_20</td>\n",
       "      <td>0.049812</td>\n",
       "      <td>impute_knn</td>\n",
       "      <td>SVC</td>\n",
       "      <td>0.487660</td>\n",
       "    </tr>\n",
       "    <tr>\n",
       "      <th>59396</th>\n",
       "      <td>numerai28.6_attribute_20</td>\n",
       "      <td>0.049812</td>\n",
       "      <td>impute_mice</td>\n",
       "      <td>SVC</td>\n",
       "      <td>0.484871</td>\n",
       "    </tr>\n",
       "    <tr>\n",
       "      <th>59397</th>\n",
       "      <td>numerai28.6_attribute_20</td>\n",
       "      <td>0.049812</td>\n",
       "      <td>impute_linear_regression</td>\n",
       "      <td>SVC</td>\n",
       "      <td>0.484871</td>\n",
       "    </tr>\n",
       "    <tr>\n",
       "      <th>59398</th>\n",
       "      <td>numerai28.6_attribute_20</td>\n",
       "      <td>0.049812</td>\n",
       "      <td>impute_random_forest</td>\n",
       "      <td>SVC</td>\n",
       "      <td>0.486971</td>\n",
       "    </tr>\n",
       "    <tr>\n",
       "      <th>59399</th>\n",
       "      <td>numerai28.6_attribute_20</td>\n",
       "      <td>0.049812</td>\n",
       "      <td>impute_cmeans</td>\n",
       "      <td>SVC</td>\n",
       "      <td>0.484465</td>\n",
       "    </tr>\n",
       "  </tbody>\n",
       "</table>\n",
       "<p>59400 rows × 5 columns</p>\n",
       "</div>"
      ]
     },
     "execution_count": 2,
     "metadata": {},
     "output_type": "execute_result"
    }
   ],
   "execution_count": 2
  },
  {
   "metadata": {
    "ExecuteTime": {
     "end_time": "2024-05-12T15:42:11.114941Z",
     "start_time": "2024-05-12T15:42:11.110247Z"
    }
   },
   "cell_type": "code",
   "source": [
    "prova = completeness_results.sample(1)\n",
    "prova"
   ],
   "id": "fc5bd4b889c67d08",
   "outputs": [
    {
     "data": {
      "text/plain": [
       "           data_object  initial_completeness    technique_completeness  \\\n",
       "29085  german_Duration               0.10225  impute_linear_regression   \n",
       "\n",
       "       ml_algorithm  final_ml_value  \n",
       "29085  RandomForest        0.667542  "
      ],
      "text/html": [
       "<div>\n",
       "<style scoped>\n",
       "    .dataframe tbody tr th:only-of-type {\n",
       "        vertical-align: middle;\n",
       "    }\n",
       "\n",
       "    .dataframe tbody tr th {\n",
       "        vertical-align: top;\n",
       "    }\n",
       "\n",
       "    .dataframe thead th {\n",
       "        text-align: right;\n",
       "    }\n",
       "</style>\n",
       "<table border=\"1\" class=\"dataframe\">\n",
       "  <thead>\n",
       "    <tr style=\"text-align: right;\">\n",
       "      <th></th>\n",
       "      <th>data_object</th>\n",
       "      <th>initial_completeness</th>\n",
       "      <th>technique_completeness</th>\n",
       "      <th>ml_algorithm</th>\n",
       "      <th>final_ml_value</th>\n",
       "    </tr>\n",
       "  </thead>\n",
       "  <tbody>\n",
       "    <tr>\n",
       "      <th>29085</th>\n",
       "      <td>german_Duration</td>\n",
       "      <td>0.10225</td>\n",
       "      <td>impute_linear_regression</td>\n",
       "      <td>RandomForest</td>\n",
       "      <td>0.667542</td>\n",
       "    </tr>\n",
       "  </tbody>\n",
       "</table>\n",
       "</div>"
      ]
     },
     "execution_count": 3,
     "metadata": {},
     "output_type": "execute_result"
    }
   ],
   "execution_count": 3
  },
  {
   "metadata": {
    "ExecuteTime": {
     "end_time": "2024-05-12T15:42:36.423433Z",
     "start_time": "2024-05-12T15:42:36.419583Z"
    }
   },
   "cell_type": "code",
   "source": [
    "data_object_to_test = prova['data_object'].values[0]\n",
    "initial_completeness_to_test = prova['initial_completeness'].values[0]\n",
    "algorithm_to_test = prova['ml_algorithm'].values[0]"
   ],
   "id": "a312cfa5b5684c27",
   "outputs": [],
   "execution_count": 6
  },
  {
   "metadata": {
    "ExecuteTime": {
     "end_time": "2024-05-12T15:42:43.982070Z",
     "start_time": "2024-05-12T15:42:43.971349Z"
    }
   },
   "cell_type": "code",
   "source": [
    "og_dataset = completeness_results.sample(len(completeness_results)).reset_index(drop=True)\n",
    "test_dataset = og_dataset[(og_dataset['data_object'] == data_object_to_test)]\n",
    "test_dataset = test_dataset[(test_dataset['initial_completeness'] == initial_completeness_to_test)]\n",
    "test_dataset = test_dataset[(test_dataset['ml_algorithm'] == algorithm_to_test)]\n",
    "current_interaction_dataframe = test_dataset\n",
    "current_interaction_dataframe"
   ],
   "id": "499fd873db04d24e",
   "outputs": [
    {
     "data": {
      "text/plain": [
       "           data_object  initial_completeness    technique_completeness  \\\n",
       "8346   german_Duration               0.10225             impute_random   \n",
       "9207   german_Duration               0.10225             impute_median   \n",
       "15830  german_Duration               0.10225                impute_knn   \n",
       "31769  german_Duration               0.10225      impute_random_forest   \n",
       "33044  german_Duration               0.10225           impute_standard   \n",
       "35245  german_Duration               0.10225  impute_linear_regression   \n",
       "36073  german_Duration               0.10225             impute_cmeans   \n",
       "42502  german_Duration               0.10225               impute_mean   \n",
       "43315  german_Duration               0.10225               impute_mice   \n",
       "\n",
       "       ml_algorithm  final_ml_value  \n",
       "8346   RandomForest        0.664667  \n",
       "9207   RandomForest        0.671537  \n",
       "15830  RandomForest        0.668857  \n",
       "31769  RandomForest        0.675570  \n",
       "33044  RandomForest        0.671231  \n",
       "35245  RandomForest        0.667542  \n",
       "36073  RandomForest        0.671739  \n",
       "42502  RandomForest        0.670423  \n",
       "43315  RandomForest        0.671693  "
      ],
      "text/html": [
       "<div>\n",
       "<style scoped>\n",
       "    .dataframe tbody tr th:only-of-type {\n",
       "        vertical-align: middle;\n",
       "    }\n",
       "\n",
       "    .dataframe tbody tr th {\n",
       "        vertical-align: top;\n",
       "    }\n",
       "\n",
       "    .dataframe thead th {\n",
       "        text-align: right;\n",
       "    }\n",
       "</style>\n",
       "<table border=\"1\" class=\"dataframe\">\n",
       "  <thead>\n",
       "    <tr style=\"text-align: right;\">\n",
       "      <th></th>\n",
       "      <th>data_object</th>\n",
       "      <th>initial_completeness</th>\n",
       "      <th>technique_completeness</th>\n",
       "      <th>ml_algorithm</th>\n",
       "      <th>final_ml_value</th>\n",
       "    </tr>\n",
       "  </thead>\n",
       "  <tbody>\n",
       "    <tr>\n",
       "      <th>8346</th>\n",
       "      <td>german_Duration</td>\n",
       "      <td>0.10225</td>\n",
       "      <td>impute_random</td>\n",
       "      <td>RandomForest</td>\n",
       "      <td>0.664667</td>\n",
       "    </tr>\n",
       "    <tr>\n",
       "      <th>9207</th>\n",
       "      <td>german_Duration</td>\n",
       "      <td>0.10225</td>\n",
       "      <td>impute_median</td>\n",
       "      <td>RandomForest</td>\n",
       "      <td>0.671537</td>\n",
       "    </tr>\n",
       "    <tr>\n",
       "      <th>15830</th>\n",
       "      <td>german_Duration</td>\n",
       "      <td>0.10225</td>\n",
       "      <td>impute_knn</td>\n",
       "      <td>RandomForest</td>\n",
       "      <td>0.668857</td>\n",
       "    </tr>\n",
       "    <tr>\n",
       "      <th>31769</th>\n",
       "      <td>german_Duration</td>\n",
       "      <td>0.10225</td>\n",
       "      <td>impute_random_forest</td>\n",
       "      <td>RandomForest</td>\n",
       "      <td>0.675570</td>\n",
       "    </tr>\n",
       "    <tr>\n",
       "      <th>33044</th>\n",
       "      <td>german_Duration</td>\n",
       "      <td>0.10225</td>\n",
       "      <td>impute_standard</td>\n",
       "      <td>RandomForest</td>\n",
       "      <td>0.671231</td>\n",
       "    </tr>\n",
       "    <tr>\n",
       "      <th>35245</th>\n",
       "      <td>german_Duration</td>\n",
       "      <td>0.10225</td>\n",
       "      <td>impute_linear_regression</td>\n",
       "      <td>RandomForest</td>\n",
       "      <td>0.667542</td>\n",
       "    </tr>\n",
       "    <tr>\n",
       "      <th>36073</th>\n",
       "      <td>german_Duration</td>\n",
       "      <td>0.10225</td>\n",
       "      <td>impute_cmeans</td>\n",
       "      <td>RandomForest</td>\n",
       "      <td>0.671739</td>\n",
       "    </tr>\n",
       "    <tr>\n",
       "      <th>42502</th>\n",
       "      <td>german_Duration</td>\n",
       "      <td>0.10225</td>\n",
       "      <td>impute_mean</td>\n",
       "      <td>RandomForest</td>\n",
       "      <td>0.670423</td>\n",
       "    </tr>\n",
       "    <tr>\n",
       "      <th>43315</th>\n",
       "      <td>german_Duration</td>\n",
       "      <td>0.10225</td>\n",
       "      <td>impute_mice</td>\n",
       "      <td>RandomForest</td>\n",
       "      <td>0.671693</td>\n",
       "    </tr>\n",
       "  </tbody>\n",
       "</table>\n",
       "</div>"
      ]
     },
     "execution_count": 7,
     "metadata": {},
     "output_type": "execute_result"
    }
   ],
   "execution_count": 7
  },
  {
   "metadata": {
    "ExecuteTime": {
     "end_time": "2024-05-12T15:56:00.078911Z",
     "start_time": "2024-05-12T15:56:00.073502Z"
    }
   },
   "cell_type": "code",
   "source": [
    "relevance_threshold = current_interaction_dataframe.nlargest(1, 'final_ml_value')['final_ml_value'].values[0] - 0.0020\n",
    "relevance_threshold"
   ],
   "id": "5b4c83eb59ba9b7b",
   "outputs": [
    {
     "data": {
      "text/plain": [
       "0.6735701202903182"
      ]
     },
     "execution_count": 36,
     "metadata": {},
     "output_type": "execute_result"
    }
   ],
   "execution_count": 36
  },
  {
   "metadata": {
    "ExecuteTime": {
     "end_time": "2024-05-12T15:56:41.863593Z",
     "start_time": "2024-05-12T15:56:41.860847Z"
    }
   },
   "cell_type": "code",
   "source": [
    "recommended_arms = [5, 7, 1]"
   ],
   "id": "134ea0c5f728f60d",
   "outputs": [],
   "execution_count": 39
  },
  {
   "metadata": {
    "ExecuteTime": {
     "end_time": "2024-05-12T15:56:18.400126Z",
     "start_time": "2024-05-12T15:56:18.395660Z"
    }
   },
   "cell_type": "code",
   "source": [
    "mapping_MethodToArm[7]"
   ],
   "id": "f2c6de804589960f",
   "outputs": [
    {
     "data": {
      "text/plain": [
       "'impute_random_forest'"
      ]
     },
     "execution_count": 37,
     "metadata": {},
     "output_type": "execute_result"
    }
   ],
   "execution_count": 37
  },
  {
   "metadata": {
    "ExecuteTime": {
     "end_time": "2024-05-12T15:50:43.173693Z",
     "start_time": "2024-05-12T15:50:43.168886Z"
    }
   },
   "cell_type": "code",
   "source": [
    "current_interaction_dataframe[current_interaction_dataframe['technique_completeness'] == mapping_MethodToArm[recommended_arms[0]]]['final_ml_value'].values[0]"
   ],
   "id": "bcc9f6197cdbad94",
   "outputs": [
    {
     "data": {
      "text/plain": [
       "0.6688571803308266"
      ]
     },
     "execution_count": 14,
     "metadata": {},
     "output_type": "execute_result"
    }
   ],
   "execution_count": 14
  },
  {
   "metadata": {
    "ExecuteTime": {
     "end_time": "2024-05-12T15:56:43.352812Z",
     "start_time": "2024-05-12T15:56:43.346910Z"
    }
   },
   "cell_type": "code",
   "source": [
    "average_precision = 0\n",
    "relevance_rank = 1\n",
    "k = 3\n",
    "for i in range(k):\n",
    "    print(mapping_MethodToArm[recommended_arms[i]])\n",
    "    if current_interaction_dataframe[current_interaction_dataframe['technique_completeness'] == mapping_MethodToArm[recommended_arms[i]]]['final_ml_value'].values[0] >= relevance_threshold:\n",
    "        average_precision += relevance_rank / (i + 1)\n",
    "        relevance_rank += 1\n",
    "    print(average_precision)\n",
    "\n",
    "mean_average_precision = average_precision / k"
   ],
   "id": "9d76bcaafc04b4d9",
   "outputs": [
    {
     "name": "stdout",
     "output_type": "stream",
     "text": [
      "impute_mice\n",
      "0\n",
      "impute_random_forest\n",
      "0.5\n",
      "impute_mean\n",
      "0.5\n"
     ]
    }
   ],
   "execution_count": 40
  },
  {
   "metadata": {
    "ExecuteTime": {
     "end_time": "2024-05-12T15:50:48.537661Z",
     "start_time": "2024-05-12T15:50:48.534760Z"
    }
   },
   "cell_type": "code",
   "source": [
    "mean_average_precision"
   ],
   "id": "4436b53d57d46e6d",
   "outputs": [
    {
     "data": {
      "text/plain": [
       "0.1111111111111111"
      ]
     },
     "execution_count": 16,
     "metadata": {},
     "output_type": "execute_result"
    }
   ],
   "execution_count": 16
  },
  {
   "metadata": {},
   "cell_type": "code",
   "outputs": [],
   "execution_count": null,
   "source": [],
   "id": "2c2e5ec05132273c"
  }
 ],
 "metadata": {
  "kernelspec": {
   "display_name": "Python 3",
   "language": "python",
   "name": "python3"
  },
  "language_info": {
   "codemirror_mode": {
    "name": "ipython",
    "version": 2
   },
   "file_extension": ".py",
   "mimetype": "text/x-python",
   "name": "python",
   "nbconvert_exporter": "python",
   "pygments_lexer": "ipython2",
   "version": "2.7.6"
  }
 },
 "nbformat": 4,
 "nbformat_minor": 5
}
