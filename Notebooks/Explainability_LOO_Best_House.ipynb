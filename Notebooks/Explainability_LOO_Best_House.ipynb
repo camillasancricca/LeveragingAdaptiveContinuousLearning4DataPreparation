{
 "cells": [
  {
   "metadata": {
    "ExecuteTime": {
     "end_time": "2024-06-12T13:43:38.750837Z",
     "start_time": "2024-06-12T13:43:38.747376Z"
    }
   },
   "cell_type": "code",
   "source": [
    "from Environments.SimulationEnvironment_LOO import SimulationEnvironmentLOO\n",
    "from Learners.Learner_AdaptiveContextualLinUCBPolicy import AdaptiveContextualLinUCBPolicy\n",
    "from Utils.Utils import *\n",
    "import numpy as np\n",
    "from tqdm.auto import tqdm"
   ],
   "id": "3ee98b5dd682797e",
   "outputs": [],
   "execution_count": 3
  },
  {
   "metadata": {
    "ExecuteTime": {
     "end_time": "2024-06-12T13:43:39.083252Z",
     "start_time": "2024-06-12T13:43:39.057665Z"
    }
   },
   "cell_type": "code",
   "source": [
    "dataHouse = pd.read_csv('data/house.csv')\n",
    "dataHouse"
   ],
   "id": "a37c0dcdae1dab89",
   "outputs": [
    {
     "data": {
      "text/plain": [
       "     MSSubClass MSZoning  LotFrontage  LotArea Street LotShape LandContour  \\\n",
       "0            70       RL    60.000000     7200   Pave      Reg         Lvl   \n",
       "1            60       RL    69.331454    18450   Pave      IR1         Lvl   \n",
       "2            70       RM    68.000000     9928   Pave      Reg         Lvl   \n",
       "3            20       FV    60.000000     7200   Pave      Reg         Lvl   \n",
       "4           120       FV    35.000000     4274   Pave      IR1         Lvl   \n",
       "..          ...      ...          ...      ...    ...      ...         ...   \n",
       "496          20       RL    75.000000     9000   Pave      Reg         Lvl   \n",
       "497          60       RL    69.331454    16698   Pave      IR1         HLS   \n",
       "498          60       RL    62.000000     7415   Pave      IR1         Lvl   \n",
       "499          80       RL    69.331454    14115   Pave      Reg         Lvl   \n",
       "500          20       RL    69.331454    11120   Pave      IR1         Lvl   \n",
       "\n",
       "    Utilities LotConfig LandSlope  ... OpenPorchSF EnclosedPorch 3SsnPorch  \\\n",
       "0      AllPub    Corner       Gtl  ...           0           112         0   \n",
       "1      AllPub    Inside       Gtl  ...         265             0         0   \n",
       "2      AllPub    Inside       Gtl  ...          28             0         0   \n",
       "3      AllPub    Inside       Gtl  ...         121             0         0   \n",
       "4      AllPub    Inside       Gtl  ...         116             0         0   \n",
       "..        ...       ...       ...  ...         ...           ...       ...   \n",
       "496    AllPub    Inside       Gtl  ...           0             0         0   \n",
       "497    AllPub   CulDSac       Mod  ...         193             0         0   \n",
       "498    AllPub    Inside       Gtl  ...          75             0         0   \n",
       "499    AllPub    Inside       Gtl  ...          48             0         0   \n",
       "500    AllPub   CulDSac       Gtl  ...           0             0         0   \n",
       "\n",
       "    ScreenPorch PoolArea  MiscVal  MoSold  YrSold  SaleType SaleCondition  \n",
       "0             0        0        0       8    2009        WD        Normal  \n",
       "1             0        0        0       8    2007        WD       Abnorml  \n",
       "2             0        0      400       6    2009        WD        Normal  \n",
       "3             0        0        0       8    2006       New       Partial  \n",
       "4             0        0        0      11    2007       New       Partial  \n",
       "..          ...      ...      ...     ...     ...       ...           ...  \n",
       "496           0        0        0       8    2009        WD       Abnorml  \n",
       "497           0        0        0       6    2009        WD        Normal  \n",
       "498           0        0        0       4    2008        WD        Normal  \n",
       "499           0        0        0       6    2009        WD        Normal  \n",
       "500           0        0        0       6    2008        WD        Normal  \n",
       "\n",
       "[501 rows x 75 columns]"
      ],
      "text/html": [
       "<div>\n",
       "<style scoped>\n",
       "    .dataframe tbody tr th:only-of-type {\n",
       "        vertical-align: middle;\n",
       "    }\n",
       "\n",
       "    .dataframe tbody tr th {\n",
       "        vertical-align: top;\n",
       "    }\n",
       "\n",
       "    .dataframe thead th {\n",
       "        text-align: right;\n",
       "    }\n",
       "</style>\n",
       "<table border=\"1\" class=\"dataframe\">\n",
       "  <thead>\n",
       "    <tr style=\"text-align: right;\">\n",
       "      <th></th>\n",
       "      <th>MSSubClass</th>\n",
       "      <th>MSZoning</th>\n",
       "      <th>LotFrontage</th>\n",
       "      <th>LotArea</th>\n",
       "      <th>Street</th>\n",
       "      <th>LotShape</th>\n",
       "      <th>LandContour</th>\n",
       "      <th>Utilities</th>\n",
       "      <th>LotConfig</th>\n",
       "      <th>LandSlope</th>\n",
       "      <th>...</th>\n",
       "      <th>OpenPorchSF</th>\n",
       "      <th>EnclosedPorch</th>\n",
       "      <th>3SsnPorch</th>\n",
       "      <th>ScreenPorch</th>\n",
       "      <th>PoolArea</th>\n",
       "      <th>MiscVal</th>\n",
       "      <th>MoSold</th>\n",
       "      <th>YrSold</th>\n",
       "      <th>SaleType</th>\n",
       "      <th>SaleCondition</th>\n",
       "    </tr>\n",
       "  </thead>\n",
       "  <tbody>\n",
       "    <tr>\n",
       "      <th>0</th>\n",
       "      <td>70</td>\n",
       "      <td>RL</td>\n",
       "      <td>60.000000</td>\n",
       "      <td>7200</td>\n",
       "      <td>Pave</td>\n",
       "      <td>Reg</td>\n",
       "      <td>Lvl</td>\n",
       "      <td>AllPub</td>\n",
       "      <td>Corner</td>\n",
       "      <td>Gtl</td>\n",
       "      <td>...</td>\n",
       "      <td>0</td>\n",
       "      <td>112</td>\n",
       "      <td>0</td>\n",
       "      <td>0</td>\n",
       "      <td>0</td>\n",
       "      <td>0</td>\n",
       "      <td>8</td>\n",
       "      <td>2009</td>\n",
       "      <td>WD</td>\n",
       "      <td>Normal</td>\n",
       "    </tr>\n",
       "    <tr>\n",
       "      <th>1</th>\n",
       "      <td>60</td>\n",
       "      <td>RL</td>\n",
       "      <td>69.331454</td>\n",
       "      <td>18450</td>\n",
       "      <td>Pave</td>\n",
       "      <td>IR1</td>\n",
       "      <td>Lvl</td>\n",
       "      <td>AllPub</td>\n",
       "      <td>Inside</td>\n",
       "      <td>Gtl</td>\n",
       "      <td>...</td>\n",
       "      <td>265</td>\n",
       "      <td>0</td>\n",
       "      <td>0</td>\n",
       "      <td>0</td>\n",
       "      <td>0</td>\n",
       "      <td>0</td>\n",
       "      <td>8</td>\n",
       "      <td>2007</td>\n",
       "      <td>WD</td>\n",
       "      <td>Abnorml</td>\n",
       "    </tr>\n",
       "    <tr>\n",
       "      <th>2</th>\n",
       "      <td>70</td>\n",
       "      <td>RM</td>\n",
       "      <td>68.000000</td>\n",
       "      <td>9928</td>\n",
       "      <td>Pave</td>\n",
       "      <td>Reg</td>\n",
       "      <td>Lvl</td>\n",
       "      <td>AllPub</td>\n",
       "      <td>Inside</td>\n",
       "      <td>Gtl</td>\n",
       "      <td>...</td>\n",
       "      <td>28</td>\n",
       "      <td>0</td>\n",
       "      <td>0</td>\n",
       "      <td>0</td>\n",
       "      <td>0</td>\n",
       "      <td>400</td>\n",
       "      <td>6</td>\n",
       "      <td>2009</td>\n",
       "      <td>WD</td>\n",
       "      <td>Normal</td>\n",
       "    </tr>\n",
       "    <tr>\n",
       "      <th>3</th>\n",
       "      <td>20</td>\n",
       "      <td>FV</td>\n",
       "      <td>60.000000</td>\n",
       "      <td>7200</td>\n",
       "      <td>Pave</td>\n",
       "      <td>Reg</td>\n",
       "      <td>Lvl</td>\n",
       "      <td>AllPub</td>\n",
       "      <td>Inside</td>\n",
       "      <td>Gtl</td>\n",
       "      <td>...</td>\n",
       "      <td>121</td>\n",
       "      <td>0</td>\n",
       "      <td>0</td>\n",
       "      <td>0</td>\n",
       "      <td>0</td>\n",
       "      <td>0</td>\n",
       "      <td>8</td>\n",
       "      <td>2006</td>\n",
       "      <td>New</td>\n",
       "      <td>Partial</td>\n",
       "    </tr>\n",
       "    <tr>\n",
       "      <th>4</th>\n",
       "      <td>120</td>\n",
       "      <td>FV</td>\n",
       "      <td>35.000000</td>\n",
       "      <td>4274</td>\n",
       "      <td>Pave</td>\n",
       "      <td>IR1</td>\n",
       "      <td>Lvl</td>\n",
       "      <td>AllPub</td>\n",
       "      <td>Inside</td>\n",
       "      <td>Gtl</td>\n",
       "      <td>...</td>\n",
       "      <td>116</td>\n",
       "      <td>0</td>\n",
       "      <td>0</td>\n",
       "      <td>0</td>\n",
       "      <td>0</td>\n",
       "      <td>0</td>\n",
       "      <td>11</td>\n",
       "      <td>2007</td>\n",
       "      <td>New</td>\n",
       "      <td>Partial</td>\n",
       "    </tr>\n",
       "    <tr>\n",
       "      <th>...</th>\n",
       "      <td>...</td>\n",
       "      <td>...</td>\n",
       "      <td>...</td>\n",
       "      <td>...</td>\n",
       "      <td>...</td>\n",
       "      <td>...</td>\n",
       "      <td>...</td>\n",
       "      <td>...</td>\n",
       "      <td>...</td>\n",
       "      <td>...</td>\n",
       "      <td>...</td>\n",
       "      <td>...</td>\n",
       "      <td>...</td>\n",
       "      <td>...</td>\n",
       "      <td>...</td>\n",
       "      <td>...</td>\n",
       "      <td>...</td>\n",
       "      <td>...</td>\n",
       "      <td>...</td>\n",
       "      <td>...</td>\n",
       "      <td>...</td>\n",
       "    </tr>\n",
       "    <tr>\n",
       "      <th>496</th>\n",
       "      <td>20</td>\n",
       "      <td>RL</td>\n",
       "      <td>75.000000</td>\n",
       "      <td>9000</td>\n",
       "      <td>Pave</td>\n",
       "      <td>Reg</td>\n",
       "      <td>Lvl</td>\n",
       "      <td>AllPub</td>\n",
       "      <td>Inside</td>\n",
       "      <td>Gtl</td>\n",
       "      <td>...</td>\n",
       "      <td>0</td>\n",
       "      <td>0</td>\n",
       "      <td>0</td>\n",
       "      <td>0</td>\n",
       "      <td>0</td>\n",
       "      <td>0</td>\n",
       "      <td>8</td>\n",
       "      <td>2009</td>\n",
       "      <td>WD</td>\n",
       "      <td>Abnorml</td>\n",
       "    </tr>\n",
       "    <tr>\n",
       "      <th>497</th>\n",
       "      <td>60</td>\n",
       "      <td>RL</td>\n",
       "      <td>69.331454</td>\n",
       "      <td>16698</td>\n",
       "      <td>Pave</td>\n",
       "      <td>IR1</td>\n",
       "      <td>HLS</td>\n",
       "      <td>AllPub</td>\n",
       "      <td>CulDSac</td>\n",
       "      <td>Mod</td>\n",
       "      <td>...</td>\n",
       "      <td>193</td>\n",
       "      <td>0</td>\n",
       "      <td>0</td>\n",
       "      <td>0</td>\n",
       "      <td>0</td>\n",
       "      <td>0</td>\n",
       "      <td>6</td>\n",
       "      <td>2009</td>\n",
       "      <td>WD</td>\n",
       "      <td>Normal</td>\n",
       "    </tr>\n",
       "    <tr>\n",
       "      <th>498</th>\n",
       "      <td>60</td>\n",
       "      <td>RL</td>\n",
       "      <td>62.000000</td>\n",
       "      <td>7415</td>\n",
       "      <td>Pave</td>\n",
       "      <td>IR1</td>\n",
       "      <td>Lvl</td>\n",
       "      <td>AllPub</td>\n",
       "      <td>Inside</td>\n",
       "      <td>Gtl</td>\n",
       "      <td>...</td>\n",
       "      <td>75</td>\n",
       "      <td>0</td>\n",
       "      <td>0</td>\n",
       "      <td>0</td>\n",
       "      <td>0</td>\n",
       "      <td>0</td>\n",
       "      <td>4</td>\n",
       "      <td>2008</td>\n",
       "      <td>WD</td>\n",
       "      <td>Normal</td>\n",
       "    </tr>\n",
       "    <tr>\n",
       "      <th>499</th>\n",
       "      <td>80</td>\n",
       "      <td>RL</td>\n",
       "      <td>69.331454</td>\n",
       "      <td>14115</td>\n",
       "      <td>Pave</td>\n",
       "      <td>Reg</td>\n",
       "      <td>Lvl</td>\n",
       "      <td>AllPub</td>\n",
       "      <td>Inside</td>\n",
       "      <td>Gtl</td>\n",
       "      <td>...</td>\n",
       "      <td>48</td>\n",
       "      <td>0</td>\n",
       "      <td>0</td>\n",
       "      <td>0</td>\n",
       "      <td>0</td>\n",
       "      <td>0</td>\n",
       "      <td>6</td>\n",
       "      <td>2009</td>\n",
       "      <td>WD</td>\n",
       "      <td>Normal</td>\n",
       "    </tr>\n",
       "    <tr>\n",
       "      <th>500</th>\n",
       "      <td>20</td>\n",
       "      <td>RL</td>\n",
       "      <td>69.331454</td>\n",
       "      <td>11120</td>\n",
       "      <td>Pave</td>\n",
       "      <td>IR1</td>\n",
       "      <td>Lvl</td>\n",
       "      <td>AllPub</td>\n",
       "      <td>CulDSac</td>\n",
       "      <td>Gtl</td>\n",
       "      <td>...</td>\n",
       "      <td>0</td>\n",
       "      <td>0</td>\n",
       "      <td>0</td>\n",
       "      <td>0</td>\n",
       "      <td>0</td>\n",
       "      <td>0</td>\n",
       "      <td>6</td>\n",
       "      <td>2008</td>\n",
       "      <td>WD</td>\n",
       "      <td>Normal</td>\n",
       "    </tr>\n",
       "  </tbody>\n",
       "</table>\n",
       "<p>501 rows × 75 columns</p>\n",
       "</div>"
      ]
     },
     "execution_count": 4,
     "metadata": {},
     "output_type": "execute_result"
    }
   ],
   "execution_count": 4
  },
  {
   "metadata": {
    "ExecuteTime": {
     "end_time": "2024-06-12T13:46:54.324656Z",
     "start_time": "2024-06-12T13:46:54.319502Z"
    }
   },
   "cell_type": "code",
   "source": [
    "########################################################################################################################\n",
    "# Variables to store the rewards and the metrics\n",
    "########################################################################################################################\n",
    "curr_policy_reward_per_experiment = []\n",
    "\n",
    "curr_policy_regret_per_experiment = []\n",
    "\n",
    "curr_policy_correct_predictions_per_experiment = 0\n",
    "\n",
    "All_arms_pulled = {}\n",
    "\n",
    "# At the end of all the experiments I want to plot all the different rewards and regrets for all the combinations\n",
    "All_experiments_results = {}\n",
    "\n",
    "########################################################################################################################\n",
    "# Utils variables\n",
    "########################################################################################################################\n",
    "\n",
    "mapping_ArmToMethod = {\n",
    "    0: \"impute_standard\",\n",
    "    1: \"impute_mean\",\n",
    "    2: \"impute_median\",\n",
    "    3: \"impute_random\",\n",
    "    4: \"impute_knn\",\n",
    "    5: \"impute_mice\",\n",
    "    6: \"impute_linear_regression\",\n",
    "    7: \"impute_random_forest\",\n",
    "    8: \"impute_cmeans\"\n",
    "}\n",
    "\n",
    "mapping_MethodToArm = {\n",
    "    \"impute_standard\": 0,\n",
    "    \"impute_mean\": 1,\n",
    "    \"impute_median\": 2,\n",
    "    \"impute_random\": 3,\n",
    "    \"impute_knn\": 4,\n",
    "    \"impute_mice\": 5,\n",
    "    \"impute_linear_regression\": 6,\n",
    "    \"impute_random_forest\": 7,\n",
    "    \"impute_cmeans\": 8\n",
    "}\n",
    "\n",
    "\n",
    "########################################################################################################################\n",
    "# Simulation Parameters\n",
    "########################################################################################################################\n",
    "percentage_usage_data = 0.1\n",
    "seeds = [0, 1, 2, 3, 4, 5, 6, 7]\n",
    "slate_number = 3\n",
    "\n",
    "num_interactions_in_kb = 500\n",
    "num_interactions_in_kb = 0\n",
    "#sim_threshold = 0.5\n",
    "sim_threshold = 0.9\n",
    "#topK = 3\n",
    "topK = 5\n",
    "#alpha_confidence = 0.5\n",
    "alpha_confidence = 0.9\n",
    "#alpha_reward = 0.5\n",
    "alpha_reward = 0.9\n",
    "\n",
    "n_arms = 9\n",
    "n_features = 6\n",
    "n_experiments = 1\n",
    "#n_experiments = 2\n",
    "\n",
    "policy = \"LinUCB_KB\""
   ],
   "id": "fa971b5382608884",
   "outputs": [],
   "execution_count": 7
  },
  {
   "metadata": {
    "ExecuteTime": {
     "end_time": "2024-06-12T13:46:55.143085Z",
     "start_time": "2024-06-12T13:46:55.139995Z"
    }
   },
   "cell_type": "code",
   "source": "dataset_name_test = 'house'",
   "id": "400dd799411687c6",
   "outputs": [],
   "execution_count": 8
  },
  {
   "metadata": {
    "ExecuteTime": {
     "end_time": "2024-06-12T13:46:55.722543Z",
     "start_time": "2024-06-12T13:46:55.612958Z"
    }
   },
   "cell_type": "code",
   "source": [
    "# Reset variables for this experiment\n",
    "curr_policy_reward_per_experiment = []\n",
    "\n",
    "curr_policy_regret_per_experiment = []\n",
    "\n",
    "curr_policy_relevance_per_experiment = []\n",
    "\n",
    "opt_per_experiment = []\n",
    "\n",
    "\n",
    "seed = seeds[0]\n",
    "\n",
    "# Initialize the simulation environment\n",
    "env = SimulationEnvironmentLOO(percentage_usage_data, num_interactions_in_kb, alpha_reward, seed, dataset_name_test)\n",
    "train_data = env.train_dataset\n",
    "test_data = env.test_data\n",
    "print(f'Initializing knowledge base with {len(env.transactions_in_kb)} transactions...')\n",
    "initial_knowledge_base, initial_knowledge_base_table = create_knowledge_base(env.transactions_in_kb)\n",
    "\n",
    "curr_relevance = []\n",
    "\n",
    "\n",
    "learner = AdaptiveContextualLinUCBPolicy(n_arms=n_arms, n_features=n_features,\n",
    "                                         alpha=alpha_confidence,\n",
    "                                         sim_threshold=sim_threshold, k=topK)\n",
    "learner.initialize_knowledge_base(initial_knowledge_base, initial_knowledge_base_table)"
   ],
   "id": "6519593b5581fbe9",
   "outputs": [
    {
     "name": "stdout",
     "output_type": "stream",
     "text": [
      "Initializing knowledge base with 0 transactions...\n"
     ]
    },
    {
     "data": {
      "text/plain": [
       "0it [00:00, ?it/s]"
      ],
      "application/vnd.jupyter.widget-view+json": {
       "version_major": 2,
       "version_minor": 0,
       "model_id": "1086dfe50a2a4458885f8ec0eaae777b"
      }
     },
     "metadata": {},
     "output_type": "display_data"
    }
   ],
   "execution_count": 9
  },
  {
   "metadata": {
    "ExecuteTime": {
     "end_time": "2024-06-12T13:47:04.289305Z",
     "start_time": "2024-06-12T13:47:01.973201Z"
    }
   },
   "cell_type": "code",
   "source": [
    "\n",
    "################################################################################################################\n",
    "# Training\n",
    "################################################################################################################\n",
    "print('Training the learners ...')\n",
    "T_train = len(train_data)\n",
    "T_train = 100\n",
    "for t in tqdm(range(T_train)):\n",
    "    # User and Dataset information retrieval\n",
    "    interaction = env.get_interaction()\n",
    "\n",
    "    user_context = env.get_user_context(interaction)\n",
    "    dataset_profiling = env.get_dataset_profiling(interaction)\n",
    "\n",
    "    # Create user context\n",
    "    learner.generate_context(user_context, dataset_profiling)\n",
    "\n",
    "    # Select an arm\n",
    "    policy_arm_pulled = learner.pull_slate_arms(slate_number)\n",
    "\n",
    "    # Obtain the offline interaction\n",
    "    offline_interaction = env.get_offline_interaction(interaction, policy_arm_pulled[0])\n",
    "\n",
    "    # Update the knowledge base\n",
    "    learner.update_knowledge_base_results(offline_interaction, dataset_profiling)\n",
    "    \n",
    "    # Obtain the target analysis value\n",
    "    target_analysis_values = learner.get_target_analysis_value()[policy_arm_pulled[0]]['target_analysis_value']\n",
    "\n",
    "    # Obtain the reward\n",
    "    reward = env.get_offline_reward_per_arm(policy_arm_pulled[0], target_analysis_values, offline_interaction)\n",
    "\n",
    "    # Obtain the reward for each learner\n",
    "    regret = env.get_regret_per_arm(reward, offline_interaction)\n",
    "\n",
    "    # Update each learner's state\n",
    "    learner.update(policy_arm_pulled[0], reward, regret)"
   ],
   "id": "ad9582de0ef764d7",
   "outputs": [
    {
     "name": "stdout",
     "output_type": "stream",
     "text": [
      "Training the learners ...\n"
     ]
    },
    {
     "data": {
      "text/plain": [
       "  0%|          | 0/100 [00:00<?, ?it/s]"
      ],
      "application/vnd.jupyter.widget-view+json": {
       "version_major": 2,
       "version_minor": 0,
       "model_id": "8f674a0508d04107bb2e1aed60673581"
      }
     },
     "metadata": {},
     "output_type": "display_data"
    }
   ],
   "execution_count": 10
  },
  {
   "metadata": {
    "ExecuteTime": {
     "end_time": "2024-06-05T09:25:43.047328Z",
     "start_time": "2024-06-05T09:25:43.033100Z"
    }
   },
   "cell_type": "code",
   "source": "learner.A",
   "id": "d494c983e79baed1",
   "outputs": [
    {
     "data": {
      "text/plain": [
       "[array([[1.00000000e+00, 0.00000000e+00, 0.00000000e+00, 0.00000000e+00,\n",
       "         0.00000000e+00, 0.00000000e+00],\n",
       "        [0.00000000e+00, 2.18800000e+03, 2.00827150e+02, 6.74948247e+02,\n",
       "         5.81314612e+02, 2.29068000e+05],\n",
       "        [0.00000000e+00, 2.00827150e+02, 5.29325118e+01, 1.36275536e+02,\n",
       "         1.17162132e+02, 4.34186350e+04],\n",
       "        [0.00000000e+00, 6.74948247e+02, 1.36275536e+02, 4.60281999e+02,\n",
       "         3.94581390e+02, 1.43767958e+05],\n",
       "        [0.00000000e+00, 5.81314612e+02, 1.17162132e+02, 3.94581390e+02,\n",
       "         3.48489418e+02, 1.23064180e+05],\n",
       "        [0.00000000e+00, 2.29068000e+05, 4.34186350e+04, 1.43767958e+05,\n",
       "         1.23064180e+05, 6.02804160e+07]]),\n",
       " array([[1.00000000e+00, 0.00000000e+00, 0.00000000e+00, 0.00000000e+00,\n",
       "         0.00000000e+00, 0.00000000e+00],\n",
       "        [0.00000000e+00, 4.69500000e+03, 3.66588962e+02, 1.27603684e+03,\n",
       "         1.06798679e+03, 4.10780000e+05],\n",
       "        [0.00000000e+00, 3.66588962e+02, 5.38032298e+01, 1.40212108e+02,\n",
       "         1.16632493e+02, 4.68219634e+04],\n",
       "        [0.00000000e+00, 1.27603684e+03, 1.40212108e+02, 4.86092892e+02,\n",
       "         4.07313061e+02, 1.60349968e+05],\n",
       "        [0.00000000e+00, 1.06798679e+03, 1.16632493e+02, 4.07313061e+02,\n",
       "         3.53405887e+02, 1.34018888e+05],\n",
       "        [0.00000000e+00, 4.10780000e+05, 4.68219634e+04, 1.60349968e+05,\n",
       "         1.34018888e+05, 7.07472870e+07]]),\n",
       " array([[1.00000000e+00, 0.00000000e+00, 0.00000000e+00, 0.00000000e+00,\n",
       "         0.00000000e+00, 0.00000000e+00],\n",
       "        [0.00000000e+00, 4.37500000e+03, 4.06970275e+02, 1.20403185e+03,\n",
       "         1.04555938e+03, 3.94723000e+05],\n",
       "        [0.00000000e+00, 4.06970275e+02, 6.80997972e+01, 1.63806370e+02,\n",
       "         1.42781883e+02, 5.29634853e+04],\n",
       "        [0.00000000e+00, 1.20403185e+03, 1.63806370e+02, 4.84123823e+02,\n",
       "         4.22108831e+02, 1.59637368e+05],\n",
       "        [0.00000000e+00, 1.04555938e+03, 1.42781883e+02, 4.22108831e+02,\n",
       "         3.79118930e+02, 1.39142458e+05],\n",
       "        [0.00000000e+00, 3.94723000e+05, 5.29634853e+04, 1.59637368e+05,\n",
       "         1.39142458e+05, 7.03920710e+07]]),\n",
       " array([[1.00000000e+00, 0.00000000e+00, 0.00000000e+00, 0.00000000e+00,\n",
       "         0.00000000e+00, 0.00000000e+00],\n",
       "        [0.00000000e+00, 4.18100000e+03, 2.33531150e+02, 7.56180614e+02,\n",
       "         6.28700832e+02, 7.42450000e+04],\n",
       "        [0.00000000e+00, 2.33531150e+02, 1.83427169e+01, 4.28365546e+01,\n",
       "         3.52555476e+01, 4.04439396e+03],\n",
       "        [0.00000000e+00, 7.56180614e+02, 4.28365546e+01, 1.40264389e+02,\n",
       "         1.15301637e+02, 1.33469506e+04],\n",
       "        [0.00000000e+00, 6.28700832e+02, 3.52555476e+01, 1.15301637e+02,\n",
       "         9.95368019e+01, 1.11759435e+04],\n",
       "        [0.00000000e+00, 7.42450000e+04, 4.04439396e+03, 1.33469506e+04,\n",
       "         1.11759435e+04, 1.71097100e+06]]),\n",
       " array([[1.00000000e+00, 0.00000000e+00, 0.00000000e+00, 0.00000000e+00,\n",
       "         0.00000000e+00, 0.00000000e+00],\n",
       "        [0.00000000e+00, 4.10800000e+03, 3.06191175e+02, 1.14079096e+03,\n",
       "         9.93815420e+02, 3.54806000e+05],\n",
       "        [0.00000000e+00, 3.06191175e+02, 4.56391460e+01, 1.24476705e+02,\n",
       "         1.08488531e+02, 4.04908325e+04],\n",
       "        [0.00000000e+00, 1.14079096e+03, 1.24476705e+02, 4.64009012e+02,\n",
       "         4.03703056e+02, 1.47400950e+05],\n",
       "        [0.00000000e+00, 9.93815420e+02, 1.08488531e+02, 4.03703056e+02,\n",
       "         3.61712757e+02, 1.27051385e+05],\n",
       "        [0.00000000e+00, 3.54806000e+05, 4.04908325e+04, 1.47400950e+05,\n",
       "         1.27051385e+05, 6.25467710e+07]]),\n",
       " array([[1.00000000e+00, 0.00000000e+00, 0.00000000e+00, 0.00000000e+00,\n",
       "         0.00000000e+00, 0.00000000e+00],\n",
       "        [0.00000000e+00, 5.05200000e+03, 4.24833150e+02, 1.34661406e+03,\n",
       "         1.14873309e+03, 4.37505000e+05],\n",
       "        [0.00000000e+00, 4.24833150e+02, 6.09198110e+01, 1.53170756e+02,\n",
       "         1.31384024e+02, 5.11082448e+04],\n",
       "        [0.00000000e+00, 1.34661406e+03, 1.53170756e+02, 4.89343431e+02,\n",
       "         4.17733956e+02, 1.65119006e+05],\n",
       "        [0.00000000e+00, 1.14873309e+03, 1.31384024e+02, 4.17733956e+02,\n",
       "         3.69430995e+02, 1.39575590e+05],\n",
       "        [0.00000000e+00, 4.37505000e+05, 5.11082448e+04, 1.65119006e+05,\n",
       "         1.39575590e+05, 7.43653920e+07]]),\n",
       " array([[1.00000000e+00, 0.00000000e+00, 0.00000000e+00, 0.00000000e+00,\n",
       "         0.00000000e+00, 0.00000000e+00],\n",
       "        [0.00000000e+00, 3.67700000e+03, 2.04099450e+02, 6.66819707e+02,\n",
       "         5.55453097e+02, 5.73300000e+04],\n",
       "        [0.00000000e+00, 2.04099450e+02, 1.58444418e+01, 3.69338768e+01,\n",
       "         3.07033071e+01, 3.15836303e+03],\n",
       "        [0.00000000e+00, 6.66819707e+02, 3.69338768e+01, 1.23477129e+02,\n",
       "         1.01686571e+02, 1.02860311e+04],\n",
       "        [0.00000000e+00, 5.55453097e+02, 3.07033071e+01, 1.01686571e+02,\n",
       "         8.82971977e+01, 8.69018145e+03],\n",
       "        [0.00000000e+00, 5.73300000e+04, 3.15836303e+03, 1.02860311e+04,\n",
       "         8.69018145e+03, 1.15907700e+06]]),\n",
       " array([[1.00000000e+00, 0.00000000e+00, 0.00000000e+00, 0.00000000e+00,\n",
       "         0.00000000e+00, 0.00000000e+00],\n",
       "        [0.00000000e+00, 4.90700000e+03, 4.37322237e+02, 1.27029121e+03,\n",
       "         1.09167645e+03, 3.77458000e+05],\n",
       "        [0.00000000e+00, 4.37322237e+02, 6.45669561e+01, 1.53471821e+02,\n",
       "         1.31824107e+02, 4.60683682e+04],\n",
       "        [0.00000000e+00, 1.27029121e+03, 1.53471821e+02, 4.47387996e+02,\n",
       "         3.85062532e+02, 1.36698373e+05],\n",
       "        [0.00000000e+00, 1.09167645e+03, 1.31824107e+02, 3.85062532e+02,\n",
       "         3.42331552e+02, 1.17991441e+05],\n",
       "        [0.00000000e+00, 3.77458000e+05, 4.60683682e+04, 1.36698373e+05,\n",
       "         1.17991441e+05, 5.59132770e+07]]),\n",
       " array([[1.00000000e+00, 0.00000000e+00, 0.00000000e+00, 0.00000000e+00,\n",
       "         0.00000000e+00, 0.00000000e+00],\n",
       "        [0.00000000e+00, 3.81600000e+03, 2.09918950e+02, 6.98595435e+02,\n",
       "         5.70441397e+02, 6.18720000e+04],\n",
       "        [0.00000000e+00, 2.09918950e+02, 1.61021381e+01, 3.90807892e+01,\n",
       "         3.15164818e+01, 3.36071994e+03],\n",
       "        [0.00000000e+00, 6.98595435e+02, 3.90807892e+01, 1.31099087e+02,\n",
       "         1.05307241e+02, 1.12394663e+04],\n",
       "        [0.00000000e+00, 5.70441397e+02, 3.15164818e+01, 1.05307241e+02,\n",
       "         8.88509450e+01, 9.22265121e+03],\n",
       "        [0.00000000e+00, 6.18720000e+04, 3.36071994e+03, 1.12394663e+04,\n",
       "         9.22265121e+03, 1.30231600e+06]])]"
      ]
     },
     "execution_count": 5,
     "metadata": {},
     "output_type": "execute_result"
    }
   ],
   "execution_count": 5
  },
  {
   "metadata": {
    "ExecuteTime": {
     "end_time": "2024-06-05T09:25:43.057073Z",
     "start_time": "2024-06-05T09:25:43.051615Z"
    }
   },
   "cell_type": "code",
   "source": "learner.b",
   "id": "a480dd61909ac619",
   "outputs": [
    {
     "data": {
      "text/plain": [
       "[array([0.00000000e+00, 6.70223260e+02, 1.36155330e+02, 4.57818081e+02,\n",
       "        3.92571485e+02, 1.43688236e+05]),\n",
       " array([0.00000000e+00, 1.27642458e+03, 1.40427856e+02, 4.84856873e+02,\n",
       "        4.05973316e+02, 1.60549927e+05]),\n",
       " array([     0.        ,   1206.26201559,    164.14429137,    483.14260603,\n",
       "           421.57463552, 159972.08941123]),\n",
       " array([    0.        ,   758.09294745,    42.84280852,   138.64142548,\n",
       "          114.51211876, 13327.55140923]),\n",
       " array([0.00000000e+00, 1.14212149e+03, 1.24654262e+02, 4.63100483e+02,\n",
       "        4.02847962e+02, 1.47589866e+05]),\n",
       " array([0.00000000e+00, 1.35076038e+03, 1.53708075e+02, 4.89202666e+02,\n",
       "        4.17276049e+02, 1.65711756e+05]),\n",
       " array([    0.        ,   664.99783991,    37.14871447,   121.56077574,\n",
       "          100.63826503, 10239.17655842]),\n",
       " array([     0.        ,   1272.20187108,    153.6680317 ,    445.88146681,\n",
       "           384.24469749, 136806.87314101]),\n",
       " array([    0.        ,   697.66834181,    38.9039127 ,   129.05577389,\n",
       "          104.17000178, 11171.04651431])]"
      ]
     },
     "execution_count": 6,
     "metadata": {},
     "output_type": "execute_result"
    }
   ],
   "execution_count": 6
  },
  {
   "metadata": {
    "ExecuteTime": {
     "end_time": "2024-06-05T09:25:43.066453Z",
     "start_time": "2024-06-05T09:25:43.059576Z"
    }
   },
   "cell_type": "code",
   "source": "learner.theta",
   "id": "7dae2435cd89d5d9",
   "outputs": [
    {
     "data": {
      "text/plain": [
       "[array([ 0.00000000e+00, -1.66453378e-03,  4.52679335e-02,  9.61455621e-01,\n",
       "         9.73572163e-03,  4.44493586e-05]),\n",
       " array([ 0.00000000e+00,  2.98200430e-03,  4.03712329e-02,  9.84341807e-01,\n",
       "        -2.09899353e-02,  3.40449689e-05]),\n",
       " array([0.00000000e+00, 3.56299766e-03, 5.64692713e-02, 9.29694452e-01,\n",
       "        3.07407939e-02, 4.09642437e-05]),\n",
       " array([ 0.00000000e+00,  1.09025569e-01,  4.05011998e-02,  4.42525454e-01,\n",
       "        -3.82677392e-02, -2.39362374e-04]),\n",
       " array([ 0.00000000e+00,  2.90657749e-03,  3.21314409e-02,  9.76147870e-01,\n",
       "        -3.74646966e-03,  2.95528797e-05]),\n",
       " array([ 0.00000000e+00,  3.74171066e-03,  4.63397442e-02,  9.83114732e-01,\n",
       "        -2.44815991e-02,  3.77664600e-05]),\n",
       " array([ 0.00000000e+00,  1.19428649e-01,  5.63362110e-02,  3.79970932e-01,\n",
       "        -3.72992275e-02, -3.19093402e-04]),\n",
       " array([0.00000000e+00, 5.12370410e-03, 6.33809843e-02, 9.07537655e-01,\n",
       "        4.47697460e-02, 4.67091910e-05]),\n",
       " array([ 0.00000000e+00,  1.27589152e-01,  5.41756092e-02,  4.35036059e-01,\n",
       "        -1.45368496e-01, -3.48693233e-04])]"
      ]
     },
     "execution_count": 7,
     "metadata": {},
     "output_type": "execute_result"
    }
   ],
   "execution_count": 7
  },
  {
   "metadata": {
    "ExecuteTime": {
     "end_time": "2024-06-12T13:47:07.833138Z",
     "start_time": "2024-06-12T13:47:07.830445Z"
    }
   },
   "cell_type": "code",
   "source": [
    "################################################################################################################\n",
    "# Testing Performance Evaluation\n",
    "################################################################################################################\n",
    "curr_policy_map_at_1_per_experiment = 0\n",
    "\n",
    "curr_policy_map_at_3_per_experiment = 0\n",
    "\n",
    "T_test = len(test_data)\n",
    "#T_test = 500\n",
    "i = 0"
   ],
   "id": "bb475c307ecb60d2",
   "outputs": [],
   "execution_count": 11
  },
  {
   "metadata": {
    "ExecuteTime": {
     "end_time": "2024-06-05T09:25:43.111326Z",
     "start_time": "2024-06-05T09:25:43.106525Z"
    }
   },
   "cell_type": "code",
   "source": "learner.prob_t",
   "id": "6fcc9c0e0fdd8783",
   "outputs": [
    {
     "data": {
      "text/plain": [
       "array([1.00320138, 1.00601717, 1.00353563, 0.95773187, 1.0059887 ,\n",
       "       1.00778278, 0.96014931, 1.00488948, 0.96097288])"
      ]
     },
     "execution_count": 11,
     "metadata": {},
     "output_type": "execute_result"
    }
   ],
   "execution_count": 11
  },
  {
   "metadata": {
    "ExecuteTime": {
     "end_time": "2024-06-12T13:47:11.626565Z",
     "start_time": "2024-06-12T13:47:11.623754Z"
    }
   },
   "cell_type": "code",
   "source": [
    "test_pull_arms_top1 = np.zeros(n_arms)\n",
    "test_pull_arms_top3 = np.zeros(n_arms)"
   ],
   "id": "d2bf39d2b885e96b",
   "outputs": [],
   "execution_count": 12
  },
  {
   "metadata": {
    "ExecuteTime": {
     "end_time": "2024-06-12T14:02:34.398487Z",
     "start_time": "2024-06-12T14:02:34.392817Z"
    }
   },
   "cell_type": "code",
   "source": [
    "interaction = test_data.iloc[i]\n",
    "interaction"
   ],
   "id": "6595085ea9164998",
   "outputs": [
    {
     "data": {
      "text/plain": [
       "data_object               house_BedroomAbvGr\n",
       "initial_completeness                0.193362\n",
       "technique_completeness           impute_mice\n",
       "ml_algorithm                    RandomForest\n",
       "final_ml_value                      0.858915\n",
       "Name: 0, dtype: object"
      ]
     },
     "execution_count": 21,
     "metadata": {},
     "output_type": "execute_result"
    }
   ],
   "execution_count": 21
  },
  {
   "metadata": {
    "ExecuteTime": {
     "end_time": "2024-06-12T14:02:35.908763Z",
     "start_time": "2024-06-12T14:02:35.894544Z"
    }
   },
   "cell_type": "code",
   "source": [
    "arm_pulled = mapping_MethodToArm[interaction['technique_completeness']]\n",
    "\n",
    "test_interaction = env.get_test_interaction(interaction[\"data_object\"],\n",
    "                                                interaction[\"initial_completeness\"],\n",
    "                                                interaction[\"ml_algorithm\"])\n",
    "test_interaction"
   ],
   "id": "55ec9072d616808d",
   "outputs": [
    {
     "data": {
      "text/plain": [
       "              data_object  initial_completeness technique_completeness  \\\n",
       "41288  house_BedroomAbvGr              0.193362            impute_mice   \n",
       "\n",
       "       ml_algorithm  final_ml_value  \n",
       "41288  RandomForest        0.858915  "
      ],
      "text/html": [
       "<div>\n",
       "<style scoped>\n",
       "    .dataframe tbody tr th:only-of-type {\n",
       "        vertical-align: middle;\n",
       "    }\n",
       "\n",
       "    .dataframe tbody tr th {\n",
       "        vertical-align: top;\n",
       "    }\n",
       "\n",
       "    .dataframe thead th {\n",
       "        text-align: right;\n",
       "    }\n",
       "</style>\n",
       "<table border=\"1\" class=\"dataframe\">\n",
       "  <thead>\n",
       "    <tr style=\"text-align: right;\">\n",
       "      <th></th>\n",
       "      <th>data_object</th>\n",
       "      <th>initial_completeness</th>\n",
       "      <th>technique_completeness</th>\n",
       "      <th>ml_algorithm</th>\n",
       "      <th>final_ml_value</th>\n",
       "    </tr>\n",
       "  </thead>\n",
       "  <tbody>\n",
       "    <tr>\n",
       "      <th>41288</th>\n",
       "      <td>house_BedroomAbvGr</td>\n",
       "      <td>0.193362</td>\n",
       "      <td>impute_mice</td>\n",
       "      <td>RandomForest</td>\n",
       "      <td>0.858915</td>\n",
       "    </tr>\n",
       "  </tbody>\n",
       "</table>\n",
       "</div>"
      ]
     },
     "execution_count": 22,
     "metadata": {},
     "output_type": "execute_result"
    }
   ],
   "execution_count": 22
  },
  {
   "metadata": {
    "ExecuteTime": {
     "end_time": "2024-06-12T14:02:39.567307Z",
     "start_time": "2024-06-12T14:02:39.562627Z"
    }
   },
   "cell_type": "code",
   "source": [
    "user_context = env.get_user_context_test(test_interaction)\n",
    "dataset_profiling = env.get_dataset_profiling_test(test_interaction)"
   ],
   "id": "7633fe8c8a9237a9",
   "outputs": [],
   "execution_count": 23
  },
  {
   "metadata": {
    "ExecuteTime": {
     "end_time": "2024-06-12T14:02:39.761701Z",
     "start_time": "2024-06-12T14:02:39.758499Z"
    }
   },
   "cell_type": "code",
   "source": "user_context",
   "id": "c77bbfdbd8bda51b",
   "outputs": [
    {
     "data": {
      "text/plain": [
       "array(['classification', 'RandomForest', '0.1933625'], dtype='<U32')"
      ]
     },
     "execution_count": 24,
     "metadata": {},
     "output_type": "execute_result"
    }
   ],
   "execution_count": 24
  },
  {
   "metadata": {
    "ExecuteTime": {
     "end_time": "2024-06-12T14:02:42.739521Z",
     "start_time": "2024-06-12T14:02:42.730587Z"
    }
   },
   "cell_type": "code",
   "source": "dataset_profiling",
   "id": "ae37f993030925ac",
   "outputs": [
    {
     "data": {
      "text/plain": [
       "            data_object  n_tuples  missing_perc  uniqueness    min  max  \\\n",
       "696  house_BedroomAbvGr     501.0      0.193362    0.017012  0.125  6.0   \n",
       "\n",
       "         mean  median       std  skewness  ...  mad  iqr    p_min     p_max  \\\n",
       "696  2.868962     3.0  0.782038  0.267637  ...  0.0  1.0  0.00355  0.666625   \n",
       "\n",
       "        k_min     k_max     s_min    s_max   entropy  density  \n",
       "696  0.002837  0.591763  0.002987  0.66165  1.138488  2.41095  \n",
       "\n",
       "[1 rows x 21 columns]"
      ],
      "text/html": [
       "<div>\n",
       "<style scoped>\n",
       "    .dataframe tbody tr th:only-of-type {\n",
       "        vertical-align: middle;\n",
       "    }\n",
       "\n",
       "    .dataframe tbody tr th {\n",
       "        vertical-align: top;\n",
       "    }\n",
       "\n",
       "    .dataframe thead th {\n",
       "        text-align: right;\n",
       "    }\n",
       "</style>\n",
       "<table border=\"1\" class=\"dataframe\">\n",
       "  <thead>\n",
       "    <tr style=\"text-align: right;\">\n",
       "      <th></th>\n",
       "      <th>data_object</th>\n",
       "      <th>n_tuples</th>\n",
       "      <th>missing_perc</th>\n",
       "      <th>uniqueness</th>\n",
       "      <th>min</th>\n",
       "      <th>max</th>\n",
       "      <th>mean</th>\n",
       "      <th>median</th>\n",
       "      <th>std</th>\n",
       "      <th>skewness</th>\n",
       "      <th>...</th>\n",
       "      <th>mad</th>\n",
       "      <th>iqr</th>\n",
       "      <th>p_min</th>\n",
       "      <th>p_max</th>\n",
       "      <th>k_min</th>\n",
       "      <th>k_max</th>\n",
       "      <th>s_min</th>\n",
       "      <th>s_max</th>\n",
       "      <th>entropy</th>\n",
       "      <th>density</th>\n",
       "    </tr>\n",
       "  </thead>\n",
       "  <tbody>\n",
       "    <tr>\n",
       "      <th>696</th>\n",
       "      <td>house_BedroomAbvGr</td>\n",
       "      <td>501.0</td>\n",
       "      <td>0.193362</td>\n",
       "      <td>0.017012</td>\n",
       "      <td>0.125</td>\n",
       "      <td>6.0</td>\n",
       "      <td>2.868962</td>\n",
       "      <td>3.0</td>\n",
       "      <td>0.782038</td>\n",
       "      <td>0.267637</td>\n",
       "      <td>...</td>\n",
       "      <td>0.0</td>\n",
       "      <td>1.0</td>\n",
       "      <td>0.00355</td>\n",
       "      <td>0.666625</td>\n",
       "      <td>0.002837</td>\n",
       "      <td>0.591763</td>\n",
       "      <td>0.002987</td>\n",
       "      <td>0.66165</td>\n",
       "      <td>1.138488</td>\n",
       "      <td>2.41095</td>\n",
       "    </tr>\n",
       "  </tbody>\n",
       "</table>\n",
       "<p>1 rows × 21 columns</p>\n",
       "</div>"
      ]
     },
     "execution_count": 25,
     "metadata": {},
     "output_type": "execute_result"
    }
   ],
   "execution_count": 25
  },
  {
   "metadata": {
    "ExecuteTime": {
     "end_time": "2024-06-12T15:35:20.372500Z",
     "start_time": "2024-06-12T15:35:20.352117Z"
    }
   },
   "cell_type": "code",
   "source": [
    "# Create user context\n",
    "learner.generate_context(user_context, dataset_profiling)"
   ],
   "id": "29d8ea239b05e9ea",
   "outputs": [],
   "execution_count": 26
  },
  {
   "metadata": {
    "ExecuteTime": {
     "end_time": "2024-06-12T15:35:20.841744Z",
     "start_time": "2024-06-12T15:35:20.838797Z"
    }
   },
   "cell_type": "code",
   "source": "learner.current_context",
   "id": "d493f3d27cb99029",
   "outputs": [
    {
     "data": {
      "text/plain": [
       "[array([ 0.        ,  3.        ,  0.1933625 ,  0.91407162,  0.76038427,\n",
       "        15.        ]),\n",
       " array([ 0.        ,  3.        ,  0.1933625 ,  0.91249439,  0.84159258,\n",
       "        10.        ]),\n",
       " array([ 0.        ,  3.        ,  0.1933625 ,  0.9110994 ,  0.87068955,\n",
       "        12.        ]),\n",
       " array([0.        , 3.        , 0.1933625 , 0.91431654, 0.90130451,\n",
       "        9.        ]),\n",
       " array([ 0.        ,  3.        ,  0.1933625 ,  0.91309761,  0.81246723,\n",
       "        11.        ]),\n",
       " array([ 0.        ,  3.        ,  0.1933625 ,  0.91171384,  0.82990782,\n",
       "        11.        ]),\n",
       " array([0.        , 3.        , 0.1933625 , 0.92021229, 0.8491238 ,\n",
       "        9.        ]),\n",
       " array([ 0.        ,  3.        ,  0.1933625 ,  0.91695492,  0.82026457,\n",
       "        13.        ]),\n",
       " array([ 0.        ,  3.        ,  0.1933625 ,  0.92846602,  0.86924548,\n",
       "        10.        ])]"
      ]
     },
     "execution_count": 27,
     "metadata": {},
     "output_type": "execute_result"
    }
   ],
   "execution_count": 27
  },
  {
   "metadata": {
    "ExecuteTime": {
     "end_time": "2024-06-12T16:01:57.651228Z",
     "start_time": "2024-06-12T16:01:57.642183Z"
    }
   },
   "cell_type": "code",
   "source": [
    "# Select an arm for each learner\n",
    "linucb_arms_kb = learner.pull_slate_arms(slate_number)\n",
    "linucb_arms_kb"
   ],
   "id": "66619c296f27a81b",
   "outputs": [
    {
     "data": {
      "text/plain": [
       "array([4, 3, 7])"
      ]
     },
     "execution_count": 30,
     "metadata": {},
     "output_type": "execute_result"
    }
   ],
   "execution_count": 30
  },
  {
   "metadata": {
    "ExecuteTime": {
     "end_time": "2024-06-12T16:02:05.609864Z",
     "start_time": "2024-06-12T16:02:05.606715Z"
    }
   },
   "cell_type": "code",
   "source": "learner.prob_t",
   "id": "6b1e6d5e57957afb",
   "outputs": [
    {
     "data": {
      "text/plain": [
       "array([1.55354842, 1.56111471, 1.60057669, 1.61277026, 1.67937255,\n",
       "       1.51867393, 1.39621444, 1.60558955, 1.45834024])"
      ]
     },
     "execution_count": 31,
     "metadata": {},
     "output_type": "execute_result"
    }
   ],
   "execution_count": 31
  },
  {
   "metadata": {
    "ExecuteTime": {
     "end_time": "2024-06-12T16:11:09.003593Z",
     "start_time": "2024-06-12T16:11:08.997396Z"
    }
   },
   "cell_type": "code",
   "source": "env.current_interaction_dataframe",
   "id": "517071a221a1b512",
   "outputs": [
    {
     "data": {
      "text/plain": [
       "              data_object  initial_completeness    technique_completeness  \\\n",
       "5285   house_BedroomAbvGr              0.193362      impute_random_forest   \n",
       "5983   house_BedroomAbvGr              0.193362                impute_knn   \n",
       "19024  house_BedroomAbvGr              0.193362             impute_cmeans   \n",
       "19578  house_BedroomAbvGr              0.193362             impute_median   \n",
       "22745  house_BedroomAbvGr              0.193362             impute_random   \n",
       "41288  house_BedroomAbvGr              0.193362               impute_mice   \n",
       "42844  house_BedroomAbvGr              0.193362               impute_mean   \n",
       "46848  house_BedroomAbvGr              0.193362  impute_linear_regression   \n",
       "59035  house_BedroomAbvGr              0.193362           impute_standard   \n",
       "\n",
       "       ml_algorithm  final_ml_value  \n",
       "5285   RandomForest        0.860556  \n",
       "5983   RandomForest        0.859721  \n",
       "19024  RandomForest        0.860883  \n",
       "19578  RandomForest        0.858535  \n",
       "22745  RandomForest        0.859534  \n",
       "41288  RandomForest        0.858915  \n",
       "42844  RandomForest        0.860144  \n",
       "46848  RandomForest        0.860790  \n",
       "59035  RandomForest        0.858998  "
      ],
      "text/html": [
       "<div>\n",
       "<style scoped>\n",
       "    .dataframe tbody tr th:only-of-type {\n",
       "        vertical-align: middle;\n",
       "    }\n",
       "\n",
       "    .dataframe tbody tr th {\n",
       "        vertical-align: top;\n",
       "    }\n",
       "\n",
       "    .dataframe thead th {\n",
       "        text-align: right;\n",
       "    }\n",
       "</style>\n",
       "<table border=\"1\" class=\"dataframe\">\n",
       "  <thead>\n",
       "    <tr style=\"text-align: right;\">\n",
       "      <th></th>\n",
       "      <th>data_object</th>\n",
       "      <th>initial_completeness</th>\n",
       "      <th>technique_completeness</th>\n",
       "      <th>ml_algorithm</th>\n",
       "      <th>final_ml_value</th>\n",
       "    </tr>\n",
       "  </thead>\n",
       "  <tbody>\n",
       "    <tr>\n",
       "      <th>5285</th>\n",
       "      <td>house_BedroomAbvGr</td>\n",
       "      <td>0.193362</td>\n",
       "      <td>impute_random_forest</td>\n",
       "      <td>RandomForest</td>\n",
       "      <td>0.860556</td>\n",
       "    </tr>\n",
       "    <tr>\n",
       "      <th>5983</th>\n",
       "      <td>house_BedroomAbvGr</td>\n",
       "      <td>0.193362</td>\n",
       "      <td>impute_knn</td>\n",
       "      <td>RandomForest</td>\n",
       "      <td>0.859721</td>\n",
       "    </tr>\n",
       "    <tr>\n",
       "      <th>19024</th>\n",
       "      <td>house_BedroomAbvGr</td>\n",
       "      <td>0.193362</td>\n",
       "      <td>impute_cmeans</td>\n",
       "      <td>RandomForest</td>\n",
       "      <td>0.860883</td>\n",
       "    </tr>\n",
       "    <tr>\n",
       "      <th>19578</th>\n",
       "      <td>house_BedroomAbvGr</td>\n",
       "      <td>0.193362</td>\n",
       "      <td>impute_median</td>\n",
       "      <td>RandomForest</td>\n",
       "      <td>0.858535</td>\n",
       "    </tr>\n",
       "    <tr>\n",
       "      <th>22745</th>\n",
       "      <td>house_BedroomAbvGr</td>\n",
       "      <td>0.193362</td>\n",
       "      <td>impute_random</td>\n",
       "      <td>RandomForest</td>\n",
       "      <td>0.859534</td>\n",
       "    </tr>\n",
       "    <tr>\n",
       "      <th>41288</th>\n",
       "      <td>house_BedroomAbvGr</td>\n",
       "      <td>0.193362</td>\n",
       "      <td>impute_mice</td>\n",
       "      <td>RandomForest</td>\n",
       "      <td>0.858915</td>\n",
       "    </tr>\n",
       "    <tr>\n",
       "      <th>42844</th>\n",
       "      <td>house_BedroomAbvGr</td>\n",
       "      <td>0.193362</td>\n",
       "      <td>impute_mean</td>\n",
       "      <td>RandomForest</td>\n",
       "      <td>0.860144</td>\n",
       "    </tr>\n",
       "    <tr>\n",
       "      <th>46848</th>\n",
       "      <td>house_BedroomAbvGr</td>\n",
       "      <td>0.193362</td>\n",
       "      <td>impute_linear_regression</td>\n",
       "      <td>RandomForest</td>\n",
       "      <td>0.860790</td>\n",
       "    </tr>\n",
       "    <tr>\n",
       "      <th>59035</th>\n",
       "      <td>house_BedroomAbvGr</td>\n",
       "      <td>0.193362</td>\n",
       "      <td>impute_standard</td>\n",
       "      <td>RandomForest</td>\n",
       "      <td>0.858998</td>\n",
       "    </tr>\n",
       "  </tbody>\n",
       "</table>\n",
       "</div>"
      ]
     },
     "execution_count": 32,
     "metadata": {},
     "output_type": "execute_result"
    }
   ],
   "execution_count": 32
  },
  {
   "metadata": {
    "ExecuteTime": {
     "end_time": "2024-06-12T16:13:36.199022Z",
     "start_time": "2024-06-12T16:13:36.195794Z"
    }
   },
   "cell_type": "code",
   "source": [
    "# Change interaction to the one that the learner has pulled\n",
    "interaction.iloc[2] = 'impute_knn'"
   ],
   "id": "33262eabc82c95e0",
   "outputs": [
    {
     "name": "stderr",
     "output_type": "stream",
     "text": [
      "/var/folders/tt/9v6608x550n51759gpcrffsc0000gn/T/ipykernel_85715/2572735103.py:2: SettingWithCopyWarning: \n",
      "A value is trying to be set on a copy of a slice from a DataFrame\n",
      "\n",
      "See the caveats in the documentation: https://pandas.pydata.org/pandas-docs/stable/user_guide/indexing.html#returning-a-view-versus-a-copy\n",
      "  interaction.iloc[2] = 'impute_knn'\n"
     ]
    }
   ],
   "execution_count": 42
  },
  {
   "metadata": {
    "ExecuteTime": {
     "end_time": "2024-06-12T16:13:44.301038Z",
     "start_time": "2024-06-12T16:13:44.297599Z"
    }
   },
   "cell_type": "code",
   "source": "interaction",
   "id": "7fafd72f5bac2e73",
   "outputs": [
    {
     "data": {
      "text/plain": [
       "data_object               house_BedroomAbvGr\n",
       "initial_completeness                0.193362\n",
       "technique_completeness            impute_knn\n",
       "ml_algorithm                    RandomForest\n",
       "final_ml_value                      0.858915\n",
       "Name: 0, dtype: object"
      ]
     },
     "execution_count": 43,
     "metadata": {},
     "output_type": "execute_result"
    }
   ],
   "execution_count": 43
  },
  {
   "metadata": {
    "ExecuteTime": {
     "end_time": "2024-06-12T16:13:51.180211Z",
     "start_time": "2024-06-12T16:13:51.162521Z"
    }
   },
   "cell_type": "code",
   "source": [
    "# Simulate the interaction\n",
    "learner.update_knowledge_base_results(interaction, dataset_profiling)"
   ],
   "id": "f3ee9311364780b0",
   "outputs": [],
   "execution_count": 44
  },
  {
   "metadata": {
    "ExecuteTime": {
     "end_time": "2024-06-12T16:15:23.413884Z",
     "start_time": "2024-06-12T16:15:23.403608Z"
    }
   },
   "cell_type": "code",
   "source": "learner.knowledge_base_table.tail()",
   "id": "2b45228a6a204fd4",
   "outputs": [
    {
     "data": {
      "text/plain": [
       "                   data_object  n_tuples  missing_perc  uniqueness       min  \\\n",
       "96                 96_fried_X4   40768.0      0.200000    0.030700     0.000   \n",
       "97             97_letter_xegvy    2001.0      0.100387    0.007575     2.000   \n",
       "98              98_ringnorm_V1    7400.0      0.401363    0.630250 -6603.250   \n",
       "99   99_cancer_Bland_Chromatin     683.0      0.297400    0.020875     1.000   \n",
       "100     100_house_BedroomAbvGr     501.0      0.193362    0.017012     0.125   \n",
       "\n",
       "          max        mean    median          std  skewness  ...     p_min  \\\n",
       "96      1.000    0.500250    0.4975     0.288875 -0.000862  ...  0.000937   \n",
       "97     13.875    8.337262    8.0000     1.550212  0.133375  ...  0.005463   \n",
       "98   6197.500  212.034875  162.0000  1492.585000 -0.223750  ...  0.006237   \n",
       "99     10.000    3.402163    3.0000     2.442675  1.125000  ...  0.351362   \n",
       "100     6.000    2.868962    3.0000     0.782038  0.267637  ...  0.003550   \n",
       "\n",
       "        p_max     k_min     k_max     s_min     s_max   entropy   density  \\\n",
       "96   0.020188  0.000612  0.013562  0.000925  0.020188  6.892762  0.000037   \n",
       "97   0.547600  0.010575  0.466237  0.014500  0.564037  1.797975  0.578188   \n",
       "98   0.041837  0.005700  0.027700  0.008388  0.041050  7.786537  0.000000   \n",
       "99   0.753238  0.336650  0.598900  0.390763  0.718087  1.909863  0.845850   \n",
       "100  0.666625  0.002837  0.591763  0.002987  0.661650  1.138488  2.410950   \n",
       "\n",
       "     technique_completeness  final_ml_value  \n",
       "96     impute_random_forest        0.888903  \n",
       "97            impute_cmeans        0.842989  \n",
       "98              impute_mice        0.910532  \n",
       "99               impute_knn        0.950018  \n",
       "100              impute_knn        0.858915  \n",
       "\n",
       "[5 rows x 23 columns]"
      ],
      "text/html": [
       "<div>\n",
       "<style scoped>\n",
       "    .dataframe tbody tr th:only-of-type {\n",
       "        vertical-align: middle;\n",
       "    }\n",
       "\n",
       "    .dataframe tbody tr th {\n",
       "        vertical-align: top;\n",
       "    }\n",
       "\n",
       "    .dataframe thead th {\n",
       "        text-align: right;\n",
       "    }\n",
       "</style>\n",
       "<table border=\"1\" class=\"dataframe\">\n",
       "  <thead>\n",
       "    <tr style=\"text-align: right;\">\n",
       "      <th></th>\n",
       "      <th>data_object</th>\n",
       "      <th>n_tuples</th>\n",
       "      <th>missing_perc</th>\n",
       "      <th>uniqueness</th>\n",
       "      <th>min</th>\n",
       "      <th>max</th>\n",
       "      <th>mean</th>\n",
       "      <th>median</th>\n",
       "      <th>std</th>\n",
       "      <th>skewness</th>\n",
       "      <th>...</th>\n",
       "      <th>p_min</th>\n",
       "      <th>p_max</th>\n",
       "      <th>k_min</th>\n",
       "      <th>k_max</th>\n",
       "      <th>s_min</th>\n",
       "      <th>s_max</th>\n",
       "      <th>entropy</th>\n",
       "      <th>density</th>\n",
       "      <th>technique_completeness</th>\n",
       "      <th>final_ml_value</th>\n",
       "    </tr>\n",
       "  </thead>\n",
       "  <tbody>\n",
       "    <tr>\n",
       "      <th>96</th>\n",
       "      <td>96_fried_X4</td>\n",
       "      <td>40768.0</td>\n",
       "      <td>0.200000</td>\n",
       "      <td>0.030700</td>\n",
       "      <td>0.000</td>\n",
       "      <td>1.000</td>\n",
       "      <td>0.500250</td>\n",
       "      <td>0.4975</td>\n",
       "      <td>0.288875</td>\n",
       "      <td>-0.000862</td>\n",
       "      <td>...</td>\n",
       "      <td>0.000937</td>\n",
       "      <td>0.020188</td>\n",
       "      <td>0.000612</td>\n",
       "      <td>0.013562</td>\n",
       "      <td>0.000925</td>\n",
       "      <td>0.020188</td>\n",
       "      <td>6.892762</td>\n",
       "      <td>0.000037</td>\n",
       "      <td>impute_random_forest</td>\n",
       "      <td>0.888903</td>\n",
       "    </tr>\n",
       "    <tr>\n",
       "      <th>97</th>\n",
       "      <td>97_letter_xegvy</td>\n",
       "      <td>2001.0</td>\n",
       "      <td>0.100387</td>\n",
       "      <td>0.007575</td>\n",
       "      <td>2.000</td>\n",
       "      <td>13.875</td>\n",
       "      <td>8.337262</td>\n",
       "      <td>8.0000</td>\n",
       "      <td>1.550212</td>\n",
       "      <td>0.133375</td>\n",
       "      <td>...</td>\n",
       "      <td>0.005463</td>\n",
       "      <td>0.547600</td>\n",
       "      <td>0.010575</td>\n",
       "      <td>0.466237</td>\n",
       "      <td>0.014500</td>\n",
       "      <td>0.564037</td>\n",
       "      <td>1.797975</td>\n",
       "      <td>0.578188</td>\n",
       "      <td>impute_cmeans</td>\n",
       "      <td>0.842989</td>\n",
       "    </tr>\n",
       "    <tr>\n",
       "      <th>98</th>\n",
       "      <td>98_ringnorm_V1</td>\n",
       "      <td>7400.0</td>\n",
       "      <td>0.401363</td>\n",
       "      <td>0.630250</td>\n",
       "      <td>-6603.250</td>\n",
       "      <td>6197.500</td>\n",
       "      <td>212.034875</td>\n",
       "      <td>162.0000</td>\n",
       "      <td>1492.585000</td>\n",
       "      <td>-0.223750</td>\n",
       "      <td>...</td>\n",
       "      <td>0.006237</td>\n",
       "      <td>0.041837</td>\n",
       "      <td>0.005700</td>\n",
       "      <td>0.027700</td>\n",
       "      <td>0.008388</td>\n",
       "      <td>0.041050</td>\n",
       "      <td>7.786537</td>\n",
       "      <td>0.000000</td>\n",
       "      <td>impute_mice</td>\n",
       "      <td>0.910532</td>\n",
       "    </tr>\n",
       "    <tr>\n",
       "      <th>99</th>\n",
       "      <td>99_cancer_Bland_Chromatin</td>\n",
       "      <td>683.0</td>\n",
       "      <td>0.297400</td>\n",
       "      <td>0.020875</td>\n",
       "      <td>1.000</td>\n",
       "      <td>10.000</td>\n",
       "      <td>3.402163</td>\n",
       "      <td>3.0000</td>\n",
       "      <td>2.442675</td>\n",
       "      <td>1.125000</td>\n",
       "      <td>...</td>\n",
       "      <td>0.351362</td>\n",
       "      <td>0.753238</td>\n",
       "      <td>0.336650</td>\n",
       "      <td>0.598900</td>\n",
       "      <td>0.390763</td>\n",
       "      <td>0.718087</td>\n",
       "      <td>1.909863</td>\n",
       "      <td>0.845850</td>\n",
       "      <td>impute_knn</td>\n",
       "      <td>0.950018</td>\n",
       "    </tr>\n",
       "    <tr>\n",
       "      <th>100</th>\n",
       "      <td>100_house_BedroomAbvGr</td>\n",
       "      <td>501.0</td>\n",
       "      <td>0.193362</td>\n",
       "      <td>0.017012</td>\n",
       "      <td>0.125</td>\n",
       "      <td>6.000</td>\n",
       "      <td>2.868962</td>\n",
       "      <td>3.0000</td>\n",
       "      <td>0.782038</td>\n",
       "      <td>0.267637</td>\n",
       "      <td>...</td>\n",
       "      <td>0.003550</td>\n",
       "      <td>0.666625</td>\n",
       "      <td>0.002837</td>\n",
       "      <td>0.591763</td>\n",
       "      <td>0.002987</td>\n",
       "      <td>0.661650</td>\n",
       "      <td>1.138488</td>\n",
       "      <td>2.410950</td>\n",
       "      <td>impute_knn</td>\n",
       "      <td>0.858915</td>\n",
       "    </tr>\n",
       "  </tbody>\n",
       "</table>\n",
       "<p>5 rows × 23 columns</p>\n",
       "</div>"
      ]
     },
     "execution_count": 45,
     "metadata": {},
     "output_type": "execute_result"
    }
   ],
   "execution_count": 45
  },
  {
   "metadata": {},
   "cell_type": "code",
   "outputs": [],
   "execution_count": null,
   "source": [
    "# Calculate MAP@K\n",
    "# map_at_1 = env.calculate_map_at_1(test_interaction)\n",
    "map_at_1, relevance_rank_at_1 = env.calculate_map_at_1(linucb_arms_kb)\n",
    "map_at_3, relevance_rank_at_3 = env.calculate_map_at_k(linucb_arms_kb, slate_number)\n",
    "curr_policy_map_at_1_per_experiment += map_at_1\n",
    "curr_policy_map_at_3_per_experiment += map_at_3\n",
    "curr_relevance.append(relevance_rank_at_3)\n",
    "\n",
    "# Obtain the target analysis value\n",
    "target_analysis_values = learner.get_target_analysis_value()[linucb_arms_kb[0]][\n",
    "    'target_analysis_value']"
   ],
   "id": "d6782bb528c60ee3"
  },
  {
   "metadata": {
    "ExecuteTime": {
     "end_time": "2024-06-12T16:18:36.435166Z",
     "start_time": "2024-06-12T16:18:36.431946Z"
    }
   },
   "cell_type": "code",
   "source": "target_analysis_values",
   "id": "bf72f53e1b947219",
   "outputs": [
    {
     "data": {
      "text/plain": [
       "0.8809850140905523"
      ]
     },
     "execution_count": 46,
     "metadata": {},
     "output_type": "execute_result"
    }
   ],
   "execution_count": 46
  },
  {
   "metadata": {
    "ExecuteTime": {
     "end_time": "2024-06-12T16:19:38.324914Z",
     "start_time": "2024-06-12T16:19:38.318458Z"
    }
   },
   "cell_type": "code",
   "source": [
    "# Obtain the reward\n",
    "linucb_kb_reward = env.get_online_reward_per_arm_slate(linucb_arms_kb, target_analysis_values, interaction)\n",
    "\n",
    "# Obtain the reward for each learner\n",
    "linucb_kb_regret = env.get_regret_per_arm(linucb_kb_reward, interaction)"
   ],
   "id": "92d5764096a7c1c1",
   "outputs": [],
   "execution_count": 48
  },
  {
   "metadata": {
    "ExecuteTime": {
     "end_time": "2024-06-12T16:19:41.146706Z",
     "start_time": "2024-06-12T16:19:41.143274Z"
    }
   },
   "cell_type": "code",
   "source": "linucb_kb_reward",
   "id": "31f8111f1050a746",
   "outputs": [
    {
     "data": {
      "text/plain": [
       "0.8977929560602987"
      ]
     },
     "execution_count": 49,
     "metadata": {},
     "output_type": "execute_result"
    }
   ],
   "execution_count": 49
  },
  {
   "metadata": {},
   "cell_type": "code",
   "outputs": [],
   "execution_count": null,
   "source": [
    "# Update each learner's state\n",
    "learner.update(arm_pulled, linucb_kb_reward, linucb_kb_regret)\n",
    "\n",
    "test_pull_arms_top1[linucb_arms_kb[0]] += 1\n",
    "\n",
    "for arm in linucb_arms_kb:\n",
    "    test_pull_arms_top3[arm] += 1"
   ],
   "id": "4299e788a7f46ea3"
  },
  {
   "metadata": {
    "ExecuteTime": {
     "end_time": "2024-06-05T12:23:33.111215Z",
     "start_time": "2024-06-05T12:22:56.660380Z"
    }
   },
   "cell_type": "code",
   "source": [
    "for i in tqdm(range(T_test)):\n",
    "    interaction = test_data.iloc[i]\n",
    "\n",
    "    arm_pulled = mapping_MethodToArm[interaction['technique_completeness']]\n",
    "\n",
    "    test_interaction = env.get_test_interaction(interaction[\"data_object\"],\n",
    "                                                interaction[\"initial_completeness\"],\n",
    "                                                interaction[\"ml_algorithm\"])\n",
    "\n",
    "    user_context = env.get_user_context_test(test_interaction)\n",
    "    dataset_profiling = env.get_dataset_profiling_test(test_interaction)\n",
    "\n",
    "    # Create user context\n",
    "    learner.generate_context(user_context, dataset_profiling)\n",
    "\n",
    "    # Select an arm for each learner\n",
    "    linucb_arms_kb = learner.pull_slate_arms(slate_number)\n",
    "\n",
    "    # Simulate the interaction\n",
    "    learner.update_knowledge_base_results(interaction, dataset_profiling)\n",
    "\n",
    "    # Calculate MAP@K\n",
    "    # map_at_1 = env.calculate_map_at_1(test_interaction)\n",
    "    map_at_1, relevance_rank_at_1 = env.calculate_map_at_1(linucb_arms_kb)\n",
    "    map_at_3, relevance_rank_at_3 = env.calculate_map_at_k(linucb_arms_kb, slate_number)\n",
    "    curr_policy_map_at_1_per_experiment += map_at_1\n",
    "    curr_policy_map_at_3_per_experiment += map_at_3\n",
    "    curr_relevance.append(relevance_rank_at_3)\n",
    "\n",
    "    # Obtain the target analysis value\n",
    "    target_analysis_values = learner.get_target_analysis_value()[linucb_arms_kb[0]][\n",
    "        'target_analysis_value']\n",
    "\n",
    "    # Obtain the reward\n",
    "    linucb_kb_reward = env.get_online_reward_per_arm_slate(linucb_arms_kb, target_analysis_values, interaction)\n",
    "\n",
    "    # Obtain the reward for each learner\n",
    "    linucb_kb_regret = env.get_regret_per_arm(linucb_kb_reward, interaction)\n",
    "\n",
    "    # Update each learner's state\n",
    "    learner.update(arm_pulled, linucb_kb_reward, linucb_kb_regret)\n",
    "    \n",
    "    test_pull_arms_top1[linucb_arms_kb[0]] += 1\n",
    "    \n",
    "    for arm in linucb_arms_kb:\n",
    "        test_pull_arms_top3[arm] += 1"
   ],
   "id": "a97d86fe1a31b2f2",
   "outputs": [
    {
     "data": {
      "text/plain": [
       "  0%|          | 0/1080 [00:00<?, ?it/s]"
      ],
      "application/vnd.jupyter.widget-view+json": {
       "version_major": 2,
       "version_minor": 0,
       "model_id": "cc01d97ddbc349fe896f3d38ad3aec9f"
      }
     },
     "metadata": {},
     "output_type": "display_data"
    }
   ],
   "execution_count": 7
  },
  {
   "metadata": {
    "ExecuteTime": {
     "end_time": "2024-06-05T12:23:33.722183Z",
     "start_time": "2024-06-05T12:23:33.717748Z"
    }
   },
   "cell_type": "code",
   "source": "test_pull_arms_top1",
   "id": "c112ec136857207e",
   "outputs": [
    {
     "data": {
      "text/plain": [
       "array([  4., 643.,   0.,   0., 239., 187.,   0.,   7.,   0.])"
      ]
     },
     "execution_count": 8,
     "metadata": {},
     "output_type": "execute_result"
    }
   ],
   "execution_count": 8
  },
  {
   "metadata": {
    "ExecuteTime": {
     "end_time": "2024-06-05T12:23:35.796032Z",
     "start_time": "2024-06-05T12:23:35.792346Z"
    }
   },
   "cell_type": "code",
   "source": "test_pull_arms_top3",
   "id": "684b0b5d51260efa",
   "outputs": [
    {
     "data": {
      "text/plain": [
       "array([1.300e+01, 1.069e+03, 3.000e+00, 1.000e+00, 1.059e+03, 1.072e+03,\n",
       "       1.000e+00, 1.800e+01, 4.000e+00])"
      ]
     },
     "execution_count": 9,
     "metadata": {},
     "output_type": "execute_result"
    }
   ],
   "execution_count": 9
  },
  {
   "metadata": {
    "ExecuteTime": {
     "end_time": "2024-06-05T09:28:36.588550Z",
     "start_time": "2024-06-05T09:28:36.584020Z"
    }
   },
   "cell_type": "code",
   "source": [
    "'''\n",
    "\"impute_standard\": 112,\n",
    "    \"impute_mean\": 115,\n",
    "    \"impute_median\": 124,\n",
    "    \"impute_random\": 126,\n",
    "    \"impute_knn\": 109,\n",
    "    \"impute_mice\": 113,\n",
    "    \"impute_linear_regression\": 120,\n",
    "    \"impute_random_forest\": 140,\n",
    "    \"impute_cmeans\": 121\n",
    "    '''"
   ],
   "id": "a5c523589650f726",
   "outputs": [
    {
     "data": {
      "text/plain": [
       "'\\n\"impute_standard\": 112,\\n    \"impute_mean\": 115,\\n    \"impute_median\": 124,\\n    \"impute_random\": 126,\\n    \"impute_knn\": 109,\\n    \"impute_mice\": 113,\\n    \"impute_linear_regression\": 120,\\n    \"impute_random_forest\": 140,\\n    \"impute_cmeans\": 121\\n    '"
      ]
     },
     "execution_count": 16,
     "metadata": {},
     "output_type": "execute_result"
    }
   ],
   "execution_count": 16
  },
  {
   "metadata": {
    "ExecuteTime": {
     "end_time": "2024-06-05T12:24:14.970622Z",
     "start_time": "2024-06-05T12:24:14.966557Z"
    }
   },
   "cell_type": "code",
   "source": "learner.theta",
   "id": "bc798f4c3c15a966",
   "outputs": [
    {
     "data": {
      "text/plain": [
       "[array([ 0.        ,  0.0094942 ,  0.0495621 ,  0.25128747, -0.0874787 ,\n",
       "         0.00033874]),\n",
       " array([ 0.00000000e+00,  7.10548664e-03,  1.52302863e-01,  4.24697204e-01,\n",
       "         5.92645411e-01, -4.29274024e-04]),\n",
       " array([ 0.        ,  0.0013341 ,  0.01418228,  0.00308706,  0.00999737,\n",
       "        -0.00020637]),\n",
       " array([ 0.00000000e+00,  1.47118707e-03,  1.39095989e-02,  7.01112801e-04,\n",
       "        -7.39744373e-03, -1.84906665e-05]),\n",
       " array([ 0.        ,  0.01804917,  0.15361676,  0.52012973,  0.47691358,\n",
       "        -0.00053533]),\n",
       " array([ 0.00000000e+00,  1.16074705e-02,  1.36990995e-01,  6.48965171e-01,\n",
       "         3.49304537e-01, -5.29102069e-04]),\n",
       " array([ 0.00000000e+00,  1.65896071e-03,  1.29735315e-03,  4.89769146e-03,\n",
       "        -1.74117152e-03, -3.46336643e-05]),\n",
       " array([ 0.        ,  0.01272721,  0.0512354 ,  0.00468338, -0.04148254,\n",
       "        -0.00011951]),\n",
       " array([ 0.00000000e+00,  9.95260724e-03,  3.48070616e-02,  1.75054417e-02,\n",
       "        -3.84392826e-02,  1.04085377e-05])]"
      ]
     },
     "execution_count": 10,
     "metadata": {},
     "output_type": "execute_result"
    }
   ],
   "execution_count": 10
  },
  {
   "metadata": {
    "ExecuteTime": {
     "end_time": "2024-06-05T12:24:17.789535Z",
     "start_time": "2024-06-05T12:24:17.785039Z"
    }
   },
   "cell_type": "code",
   "source": "curr_policy_map_at_1_per_experiment / len(test_data)",
   "id": "9dbc0fb4f77c6d52",
   "outputs": [
    {
     "data": {
      "text/plain": [
       "0.9796296296296296"
      ]
     },
     "execution_count": 11,
     "metadata": {},
     "output_type": "execute_result"
    }
   ],
   "execution_count": 11
  },
  {
   "metadata": {},
   "cell_type": "code",
   "outputs": [],
   "execution_count": null,
   "source": "",
   "id": "c3c500461be9914a"
  }
 ],
 "metadata": {
  "kernelspec": {
   "display_name": "Python 3",
   "language": "python",
   "name": "python3"
  },
  "language_info": {
   "codemirror_mode": {
    "name": "ipython",
    "version": 2
   },
   "file_extension": ".py",
   "mimetype": "text/x-python",
   "name": "python",
   "nbconvert_exporter": "python",
   "pygments_lexer": "ipython2",
   "version": "2.7.6"
  }
 },
 "nbformat": 4,
 "nbformat_minor": 5
}
