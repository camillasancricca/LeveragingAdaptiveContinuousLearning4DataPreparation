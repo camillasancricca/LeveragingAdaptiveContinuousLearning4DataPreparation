{
 "cells": [
  {
   "cell_type": "code",
   "id": "initial_id",
   "metadata": {
    "collapsed": true,
    "ExecuteTime": {
     "end_time": "2024-04-07T14:06:31.781871Z",
     "start_time": "2024-04-07T14:06:31.414010Z"
    }
   },
   "source": [
    "import pandas as pd"
   ],
   "outputs": [],
   "execution_count": 1
  },
  {
   "cell_type": "code",
   "source": [
    "prova_kb = pd.read_csv(\"datasetCreated/profiling.csv\")\n",
    "prova_kb1 = prova_kb[:5]\n",
    "prova_kb2 = prova_kb[5:10]"
   ],
   "metadata": {
    "collapsed": false,
    "ExecuteTime": {
     "end_time": "2024-04-07T14:06:31.789360Z",
     "start_time": "2024-04-07T14:06:31.783104Z"
    }
   },
   "id": "267e285db1a02619",
   "outputs": [],
   "execution_count": 2
  },
  {
   "metadata": {
    "ExecuteTime": {
     "end_time": "2024-04-07T14:11:43.404226Z",
     "start_time": "2024-04-07T14:11:43.398241Z"
    }
   },
   "cell_type": "code",
   "source": [
    "prova_kb.columns"
   ],
   "id": "a47f474857a497ef",
   "outputs": [
    {
     "data": {
      "text/plain": [
       "Index(['data_object', 'n_tuples', 'missing_perc', 'uniqueness', 'min', 'max',\n",
       "       'mean', 'median', 'std', 'skewness', 'kurtosis', 'mad', 'iqr', 'p_min',\n",
       "       'p_max', 'k_min', 'k_max', 's_min', 's_max', 'entropy', 'density'],\n",
       "      dtype='object')"
      ]
     },
     "execution_count": 4,
     "metadata": {},
     "output_type": "execute_result"
    }
   ],
   "execution_count": 4
  },
  {
   "cell_type": "code",
   "outputs": [
    {
     "data": {
      "text/plain": "                         data_object  n_tuples  missing_perc  uniqueness  min  \\\n0  default of credit card clients_x6   30000.0      0.501188      0.0007 -2.0   \n1  default of credit card clients_x6   30000.0      0.450188      0.0007 -2.0   \n2  default of credit card clients_x6   30000.0      0.399875      0.0006 -2.0   \n3  default of credit card clients_x6   30000.0      0.351225      0.0006 -2.0   \n4  default of credit card clients_x6   30000.0      0.298487      0.0005 -2.0   \n\n   max      mean  median       std  skewness  ...  mad  iqr     p_min  \\\n0  8.0 -0.014475     0.0  1.123400  0.737075  ...  1.0  1.0  0.057688   \n1  8.0 -0.019700     0.0  1.123662  0.733962  ...  1.0  1.0  0.060250   \n2  8.0 -0.015850     0.0  1.126575  0.761925  ...  1.0  1.0  0.056475   \n3  8.0 -0.015175     0.0  1.123787  0.732712  ...  1.0  1.0  0.058400   \n4  8.0 -0.014900     0.0  1.125538  0.750550  ...  1.0  1.0  0.057425   \n\n      p_max     k_min     k_max     s_min     s_max   entropy   density  \n0  0.670813  0.023525  0.600900  0.029275  0.625513  1.436750  0.905425  \n1  0.671975  0.022875  0.603687  0.028463  0.628050  1.437388  0.904813  \n2  0.671812  0.021087  0.600800  0.026212  0.625163  1.437162  0.904900  \n3  0.671275  0.023012  0.601212  0.028550  0.626012  1.436475  0.904838  \n4  0.672675  0.022263  0.601762  0.027662  0.626200  1.436988  0.904375  \n\n[5 rows x 21 columns]",
      "text/html": "<div>\n<style scoped>\n    .dataframe tbody tr th:only-of-type {\n        vertical-align: middle;\n    }\n\n    .dataframe tbody tr th {\n        vertical-align: top;\n    }\n\n    .dataframe thead th {\n        text-align: right;\n    }\n</style>\n<table border=\"1\" class=\"dataframe\">\n  <thead>\n    <tr style=\"text-align: right;\">\n      <th></th>\n      <th>data_object</th>\n      <th>n_tuples</th>\n      <th>missing_perc</th>\n      <th>uniqueness</th>\n      <th>min</th>\n      <th>max</th>\n      <th>mean</th>\n      <th>median</th>\n      <th>std</th>\n      <th>skewness</th>\n      <th>...</th>\n      <th>mad</th>\n      <th>iqr</th>\n      <th>p_min</th>\n      <th>p_max</th>\n      <th>k_min</th>\n      <th>k_max</th>\n      <th>s_min</th>\n      <th>s_max</th>\n      <th>entropy</th>\n      <th>density</th>\n    </tr>\n  </thead>\n  <tbody>\n    <tr>\n      <th>0</th>\n      <td>default of credit card clients_x6</td>\n      <td>30000.0</td>\n      <td>0.501188</td>\n      <td>0.0007</td>\n      <td>-2.0</td>\n      <td>8.0</td>\n      <td>-0.014475</td>\n      <td>0.0</td>\n      <td>1.123400</td>\n      <td>0.737075</td>\n      <td>...</td>\n      <td>1.0</td>\n      <td>1.0</td>\n      <td>0.057688</td>\n      <td>0.670813</td>\n      <td>0.023525</td>\n      <td>0.600900</td>\n      <td>0.029275</td>\n      <td>0.625513</td>\n      <td>1.436750</td>\n      <td>0.905425</td>\n    </tr>\n    <tr>\n      <th>1</th>\n      <td>default of credit card clients_x6</td>\n      <td>30000.0</td>\n      <td>0.450188</td>\n      <td>0.0007</td>\n      <td>-2.0</td>\n      <td>8.0</td>\n      <td>-0.019700</td>\n      <td>0.0</td>\n      <td>1.123662</td>\n      <td>0.733962</td>\n      <td>...</td>\n      <td>1.0</td>\n      <td>1.0</td>\n      <td>0.060250</td>\n      <td>0.671975</td>\n      <td>0.022875</td>\n      <td>0.603687</td>\n      <td>0.028463</td>\n      <td>0.628050</td>\n      <td>1.437388</td>\n      <td>0.904813</td>\n    </tr>\n    <tr>\n      <th>2</th>\n      <td>default of credit card clients_x6</td>\n      <td>30000.0</td>\n      <td>0.399875</td>\n      <td>0.0006</td>\n      <td>-2.0</td>\n      <td>8.0</td>\n      <td>-0.015850</td>\n      <td>0.0</td>\n      <td>1.126575</td>\n      <td>0.761925</td>\n      <td>...</td>\n      <td>1.0</td>\n      <td>1.0</td>\n      <td>0.056475</td>\n      <td>0.671812</td>\n      <td>0.021087</td>\n      <td>0.600800</td>\n      <td>0.026212</td>\n      <td>0.625163</td>\n      <td>1.437162</td>\n      <td>0.904900</td>\n    </tr>\n    <tr>\n      <th>3</th>\n      <td>default of credit card clients_x6</td>\n      <td>30000.0</td>\n      <td>0.351225</td>\n      <td>0.0006</td>\n      <td>-2.0</td>\n      <td>8.0</td>\n      <td>-0.015175</td>\n      <td>0.0</td>\n      <td>1.123787</td>\n      <td>0.732712</td>\n      <td>...</td>\n      <td>1.0</td>\n      <td>1.0</td>\n      <td>0.058400</td>\n      <td>0.671275</td>\n      <td>0.023012</td>\n      <td>0.601212</td>\n      <td>0.028550</td>\n      <td>0.626012</td>\n      <td>1.436475</td>\n      <td>0.904838</td>\n    </tr>\n    <tr>\n      <th>4</th>\n      <td>default of credit card clients_x6</td>\n      <td>30000.0</td>\n      <td>0.298487</td>\n      <td>0.0005</td>\n      <td>-2.0</td>\n      <td>8.0</td>\n      <td>-0.014900</td>\n      <td>0.0</td>\n      <td>1.125538</td>\n      <td>0.750550</td>\n      <td>...</td>\n      <td>1.0</td>\n      <td>1.0</td>\n      <td>0.057425</td>\n      <td>0.672675</td>\n      <td>0.022263</td>\n      <td>0.601762</td>\n      <td>0.027662</td>\n      <td>0.626200</td>\n      <td>1.436988</td>\n      <td>0.904375</td>\n    </tr>\n  </tbody>\n</table>\n<p>5 rows × 21 columns</p>\n</div>"
     },
     "execution_count": 3,
     "metadata": {},
     "output_type": "execute_result"
    }
   ],
   "source": [
    "prova_kb1"
   ],
   "metadata": {
    "collapsed": false,
    "ExecuteTime": {
     "end_time": "2024-04-02T10:39:59.360133Z",
     "start_time": "2024-04-02T10:39:59.348165Z"
    }
   },
   "id": "1678d75d6d76f495",
   "execution_count": 3
  },
  {
   "cell_type": "code",
   "outputs": [
    {
     "data": {
      "text/plain": "                         data_object  n_tuples  missing_perc  uniqueness  min  \\\n5  default of credit card clients_x6   30000.0      0.250262      0.0005 -2.0   \n6  default of credit card clients_x6   30000.0      0.200687      0.0005 -2.0   \n7  default of credit card clients_x6   30000.0      0.150000      0.0004 -2.0   \n8  default of credit card clients_x6   30000.0      0.099425      0.0004 -2.0   \n9  default of credit card clients_x6   30000.0      0.049362      0.0004 -2.0   \n\n   max      mean  median       std  skewness  ...  mad  iqr     p_min  \\\n5  8.0 -0.016413     0.0  1.124950  0.737250  ...  1.0  1.0  0.058162   \n6  8.0 -0.018025     0.0  1.121188  0.717275  ...  1.0  1.0  0.057812   \n7  8.0 -0.018250     0.0  1.122113  0.723013  ...  1.0  1.0  0.058912   \n8  8.0 -0.016737     0.0  1.124100  0.731525  ...  1.0  1.0  0.058412   \n9  8.0 -0.017462     0.0  1.123750  0.734087  ...  1.0  1.0  0.057987   \n\n      p_max     k_min     k_max     s_min     s_max   entropy   density  \n5  0.671850  0.021400  0.601950  0.026525  0.626337  1.437588  0.904262  \n6  0.669875  0.022175  0.600637  0.027537  0.624912  1.435537  0.905138  \n7  0.671800  0.021100  0.602413  0.026075  0.626925  1.435625  0.904425  \n8  0.672625  0.021913  0.602775  0.027162  0.627125  1.436888  0.905138  \n9  0.672625  0.021037  0.603237  0.026050  0.627713  1.436150  0.904987  \n\n[5 rows x 21 columns]",
      "text/html": "<div>\n<style scoped>\n    .dataframe tbody tr th:only-of-type {\n        vertical-align: middle;\n    }\n\n    .dataframe tbody tr th {\n        vertical-align: top;\n    }\n\n    .dataframe thead th {\n        text-align: right;\n    }\n</style>\n<table border=\"1\" class=\"dataframe\">\n  <thead>\n    <tr style=\"text-align: right;\">\n      <th></th>\n      <th>data_object</th>\n      <th>n_tuples</th>\n      <th>missing_perc</th>\n      <th>uniqueness</th>\n      <th>min</th>\n      <th>max</th>\n      <th>mean</th>\n      <th>median</th>\n      <th>std</th>\n      <th>skewness</th>\n      <th>...</th>\n      <th>mad</th>\n      <th>iqr</th>\n      <th>p_min</th>\n      <th>p_max</th>\n      <th>k_min</th>\n      <th>k_max</th>\n      <th>s_min</th>\n      <th>s_max</th>\n      <th>entropy</th>\n      <th>density</th>\n    </tr>\n  </thead>\n  <tbody>\n    <tr>\n      <th>5</th>\n      <td>default of credit card clients_x6</td>\n      <td>30000.0</td>\n      <td>0.250262</td>\n      <td>0.0005</td>\n      <td>-2.0</td>\n      <td>8.0</td>\n      <td>-0.016413</td>\n      <td>0.0</td>\n      <td>1.124950</td>\n      <td>0.737250</td>\n      <td>...</td>\n      <td>1.0</td>\n      <td>1.0</td>\n      <td>0.058162</td>\n      <td>0.671850</td>\n      <td>0.021400</td>\n      <td>0.601950</td>\n      <td>0.026525</td>\n      <td>0.626337</td>\n      <td>1.437588</td>\n      <td>0.904262</td>\n    </tr>\n    <tr>\n      <th>6</th>\n      <td>default of credit card clients_x6</td>\n      <td>30000.0</td>\n      <td>0.200687</td>\n      <td>0.0005</td>\n      <td>-2.0</td>\n      <td>8.0</td>\n      <td>-0.018025</td>\n      <td>0.0</td>\n      <td>1.121188</td>\n      <td>0.717275</td>\n      <td>...</td>\n      <td>1.0</td>\n      <td>1.0</td>\n      <td>0.057812</td>\n      <td>0.669875</td>\n      <td>0.022175</td>\n      <td>0.600637</td>\n      <td>0.027537</td>\n      <td>0.624912</td>\n      <td>1.435537</td>\n      <td>0.905138</td>\n    </tr>\n    <tr>\n      <th>7</th>\n      <td>default of credit card clients_x6</td>\n      <td>30000.0</td>\n      <td>0.150000</td>\n      <td>0.0004</td>\n      <td>-2.0</td>\n      <td>8.0</td>\n      <td>-0.018250</td>\n      <td>0.0</td>\n      <td>1.122113</td>\n      <td>0.723013</td>\n      <td>...</td>\n      <td>1.0</td>\n      <td>1.0</td>\n      <td>0.058912</td>\n      <td>0.671800</td>\n      <td>0.021100</td>\n      <td>0.602413</td>\n      <td>0.026075</td>\n      <td>0.626925</td>\n      <td>1.435625</td>\n      <td>0.904425</td>\n    </tr>\n    <tr>\n      <th>8</th>\n      <td>default of credit card clients_x6</td>\n      <td>30000.0</td>\n      <td>0.099425</td>\n      <td>0.0004</td>\n      <td>-2.0</td>\n      <td>8.0</td>\n      <td>-0.016737</td>\n      <td>0.0</td>\n      <td>1.124100</td>\n      <td>0.731525</td>\n      <td>...</td>\n      <td>1.0</td>\n      <td>1.0</td>\n      <td>0.058412</td>\n      <td>0.672625</td>\n      <td>0.021913</td>\n      <td>0.602775</td>\n      <td>0.027162</td>\n      <td>0.627125</td>\n      <td>1.436888</td>\n      <td>0.905138</td>\n    </tr>\n    <tr>\n      <th>9</th>\n      <td>default of credit card clients_x6</td>\n      <td>30000.0</td>\n      <td>0.049362</td>\n      <td>0.0004</td>\n      <td>-2.0</td>\n      <td>8.0</td>\n      <td>-0.017462</td>\n      <td>0.0</td>\n      <td>1.123750</td>\n      <td>0.734087</td>\n      <td>...</td>\n      <td>1.0</td>\n      <td>1.0</td>\n      <td>0.057987</td>\n      <td>0.672625</td>\n      <td>0.021037</td>\n      <td>0.603237</td>\n      <td>0.026050</td>\n      <td>0.627713</td>\n      <td>1.436150</td>\n      <td>0.904987</td>\n    </tr>\n  </tbody>\n</table>\n<p>5 rows × 21 columns</p>\n</div>"
     },
     "execution_count": 4,
     "metadata": {},
     "output_type": "execute_result"
    }
   ],
   "source": [
    "prova_kb2"
   ],
   "metadata": {
    "collapsed": false,
    "ExecuteTime": {
     "end_time": "2024-04-02T10:39:59.368322Z",
     "start_time": "2024-04-02T10:39:59.360928Z"
    }
   },
   "id": "22bcfaa5a6ae073d",
   "execution_count": 4
  },
  {
   "cell_type": "code",
   "outputs": [
    {
     "data": {
      "text/plain": "      data_object  n_tuples  missing_perc  uniqueness       min      max  \\\n282  ringnorm_V13    7400.0       0.39995    0.628138 -7007.125  6291.75   \n\n           mean   median          std  skewness  ...       mad         iqr  \\\n282  190.742063  157.375  1510.311338  -0.28625  ...  787.9375  1570.53125   \n\n        p_min    p_max     k_min     k_max     s_min    s_max  entropy  \\\n282  0.002512  0.03785  0.002462  0.027675  0.003612  0.04125  7.78375   \n\n     density  \n282      0.0  \n\n[1 rows x 21 columns]",
      "text/html": "<div>\n<style scoped>\n    .dataframe tbody tr th:only-of-type {\n        vertical-align: middle;\n    }\n\n    .dataframe tbody tr th {\n        vertical-align: top;\n    }\n\n    .dataframe thead th {\n        text-align: right;\n    }\n</style>\n<table border=\"1\" class=\"dataframe\">\n  <thead>\n    <tr style=\"text-align: right;\">\n      <th></th>\n      <th>data_object</th>\n      <th>n_tuples</th>\n      <th>missing_perc</th>\n      <th>uniqueness</th>\n      <th>min</th>\n      <th>max</th>\n      <th>mean</th>\n      <th>median</th>\n      <th>std</th>\n      <th>skewness</th>\n      <th>...</th>\n      <th>mad</th>\n      <th>iqr</th>\n      <th>p_min</th>\n      <th>p_max</th>\n      <th>k_min</th>\n      <th>k_max</th>\n      <th>s_min</th>\n      <th>s_max</th>\n      <th>entropy</th>\n      <th>density</th>\n    </tr>\n  </thead>\n  <tbody>\n    <tr>\n      <th>282</th>\n      <td>ringnorm_V13</td>\n      <td>7400.0</td>\n      <td>0.39995</td>\n      <td>0.628138</td>\n      <td>-7007.125</td>\n      <td>6291.75</td>\n      <td>190.742063</td>\n      <td>157.375</td>\n      <td>1510.311338</td>\n      <td>-0.28625</td>\n      <td>...</td>\n      <td>787.9375</td>\n      <td>1570.53125</td>\n      <td>0.002512</td>\n      <td>0.03785</td>\n      <td>0.002462</td>\n      <td>0.027675</td>\n      <td>0.003612</td>\n      <td>0.04125</td>\n      <td>7.78375</td>\n      <td>0.0</td>\n    </tr>\n  </tbody>\n</table>\n<p>1 rows × 21 columns</p>\n</div>"
     },
     "execution_count": 7,
     "metadata": {},
     "output_type": "execute_result"
    }
   ],
   "source": [
    "new_row = prova_kb.sample(1)\n",
    "new_row"
   ],
   "metadata": {
    "collapsed": false,
    "ExecuteTime": {
     "end_time": "2024-04-02T10:42:04.582810Z",
     "start_time": "2024-04-02T10:42:04.572185Z"
    }
   },
   "id": "547e94ae48b41175",
   "execution_count": 7
  },
  {
   "cell_type": "code",
   "outputs": [],
   "source": [
    "# Knn on NewRow\n",
    "from sklearn.neighbors import NearestNeighbors\n",
    "import numpy as np"
   ],
   "metadata": {
    "collapsed": false,
    "ExecuteTime": {
     "end_time": "2024-04-02T10:43:46.021099Z",
     "start_time": "2024-04-02T10:43:43.371659Z"
    }
   },
   "id": "fca46dc9440aa36b",
   "execution_count": 8
  },
  {
   "cell_type": "code",
   "outputs": [],
   "source": [
    "# return the \"data_object\" value of the nearest neighbor row of prova_kb1 to the new_row\n",
    "def knn_new_row(prova_kb1, new_row):\n",
    "    prova_kb1 = prova_kb1.drop(columns = ['data_object'])\n",
    "    new_row = new_row.drop(columns = ['data_object'])\n",
    "    neigh = NearestNeighbors(n_neighbors=1)\n",
    "    neigh.fit(prova_kb1)\n",
    "    distance, index = neigh.kneighbors(new_row)\n",
    "    return prova_kb1.iloc[index[0][0]]"
   ],
   "metadata": {
    "collapsed": false,
    "ExecuteTime": {
     "end_time": "2024-04-02T10:45:19.149879Z",
     "start_time": "2024-04-02T10:45:19.146667Z"
    }
   },
   "id": "b2e32b87059aef7e",
   "execution_count": 13
  },
  {
   "cell_type": "code",
   "outputs": [
    {
     "data": {
      "text/plain": "n_tuples        30000.000000\nmissing_perc        0.399875\nuniqueness          0.000600\nmin                -2.000000\nmax                 8.000000\nmean               -0.015850\nmedian              0.000000\nstd                 1.126575\nskewness            0.761925\nkurtosis            2.945387\nmad                 1.000000\niqr                 1.000000\np_min               0.056475\np_max               0.671812\nk_min               0.021087\nk_max               0.600800\ns_min               0.026212\ns_max               0.625163\nentropy             1.437162\ndensity             0.904900\nName: 2, dtype: float64"
     },
     "execution_count": 14,
     "metadata": {},
     "output_type": "execute_result"
    }
   ],
   "source": [
    "knn_new_row(prova_kb1, new_row)"
   ],
   "metadata": {
    "collapsed": false,
    "ExecuteTime": {
     "end_time": "2024-04-02T10:45:19.759337Z",
     "start_time": "2024-04-02T10:45:19.750944Z"
    }
   },
   "id": "4b02955f00ca7a1a",
   "execution_count": 14
  },
  {
   "cell_type": "code",
   "outputs": [],
   "source": [],
   "metadata": {
    "collapsed": false
   },
   "id": "84c6ae737d6e63e5",
   "execution_count": null
  }
 ],
 "metadata": {
  "kernelspec": {
   "display_name": "Python 3",
   "language": "python",
   "name": "python3"
  },
  "language_info": {
   "codemirror_mode": {
    "name": "ipython",
    "version": 2
   },
   "file_extension": ".py",
   "mimetype": "text/x-python",
   "name": "python",
   "nbconvert_exporter": "python",
   "pygments_lexer": "ipython2",
   "version": "2.7.6"
  }
 },
 "nbformat": 4,
 "nbformat_minor": 5
}
